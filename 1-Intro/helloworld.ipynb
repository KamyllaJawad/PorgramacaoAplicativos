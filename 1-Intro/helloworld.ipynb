{
 "cells": [
  {
   "cell_type": "markdown",
   "metadata": {},
   "source": [
    "# **Hello World Simplificado**"
   ]
  },
  {
   "cell_type": "code",
   "execution_count": null,
   "metadata": {},
   "outputs": [],
   "source": [
    "print(\"Hello, World!\")"
   ]
  },
  {
   "cell_type": "markdown",
   "metadata": {},
   "source": [
    "# **Hello World \"Rardicore\"**"
   ]
  },
  {
   "cell_type": "code",
   "execution_count": null,
   "metadata": {},
   "outputs": [],
   "source": [
    "# Função para exibir uma mensagem de boas-vindas personalizada\n",
    "def exibir_boas_vindas(nome):\n",
    "    mensagem = f\"Hello, {nome}! Welcome to the world of Python.\"\n",
    "    print(mensagem)\n",
    "    print(\"-\" * len(mensagem))  # Adiciona uma linha abaixo da mensagem com o mesmo comprimento\n",
    "\n",
    "# Função principal do programa\n",
    "def main():\n",
    "    # Solicita o nome do usuário\n",
    "    nome_usuario = input(\"Por favor, insira seu nome: \")\n",
    "    \n",
    "    # Exibe a mensagem de boas-vindas\n",
    "    exibir_boas_vindas(nome_usuario)\n",
    "    \n",
    "    # Exibe uma mensagem adicional\n",
    "    print(\"\\nAqui estão algumas informações legais sobre Python:\")\n",
    "    print(\"1. Python é uma linguagem de programação poderosa e fácil de aprender.\")\n",
    "    print(\"2. Python suporta vários paradigmas de programação.\")\n",
    "    print(\"3. A comunidade Python é uma das maiores e mais acolhedoras.\")\n",
    "    print(\"\\nDivirta-se explorando o mundo de Python!\")\n",
    "\n",
    "# Executa o programa principal\n",
    "if __name__ == \"__main__\":\n",
    "    main()\n"
   ]
  }
 ],
 "metadata": {
  "kernelspec": {
   "display_name": "Python 3",
   "language": "python",
   "name": "python3"
  },
  "language_info": {
   "codemirror_mode": {
    "name": "ipython",
    "version": 3
   },
   "file_extension": ".py",
   "mimetype": "text/x-python",
   "name": "python",
   "nbconvert_exporter": "python",
   "pygments_lexer": "ipython3",
   "version": "3.12.5"
  }
 },
 "nbformat": 4,
 "nbformat_minor": 2
}
