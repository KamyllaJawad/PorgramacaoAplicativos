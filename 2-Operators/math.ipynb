{
 "cells": [
  {
   "cell_type": "markdown",
   "metadata": {},
   "source": [
    "Os operadores matemáticos em Python são utilizados para realizar operações aritméticas entre valores ou variáveis. Abaixo está uma lista dos operadores matemáticos, acompanhada de exemplos para cada um:\n",
    "\n",
    "### 1. **Adição (`+`)**\n",
    "   - **Descrição**: Soma dois valores.\n",
    "   - **Exemplo**: `5 + 3` resulta em `8`\n",
    "   - **Uso**: `a = 10 + 5` (a variável `a` receberá o valor `15`)\n",
    "\n",
    "### 2. **Subtração (`-`)**\n",
    "   - **Descrição**: Subtrai o segundo valor do primeiro.\n",
    "   - **Exemplo**: `10 - 4` resulta em `6`\n",
    "   - **Uso**: `b = 20 - 7` (a variável `b` receberá o valor `13`)\n",
    "\n",
    "### 3. **Multiplicação (`*`)**\n",
    "   - **Descrição**: Multiplica dois valores.\n",
    "   - **Exemplo**: `6 * 7` resulta em `42`\n",
    "   - **Uso**: `c = 8 * 5` (a variável `c` receberá o valor `40`)\n",
    "\n",
    "### 4. **Divisão (`/`)**\n",
    "   - **Descrição**: Divide o primeiro valor pelo segundo. O resultado é um número de ponto flutuante.\n",
    "   - **Exemplo**: `15 / 3` resulta em `5.0`\n",
    "   - **Uso**: `d = 20 / 4` (a variável `d` receberá o valor `5.0`)\n",
    "\n",
    "### 5. **Divisão Inteira (`//`)**\n",
    "   - **Descrição**: Divide o primeiro valor pelo segundo e retorna o quociente inteiro (a parte inteira da divisão).\n",
    "   - **Exemplo**: `17 // 3` resulta em `5`\n",
    "   - **Uso**: `e = 22 // 7` (a variável `e` receberá o valor `3`)\n",
    "\n",
    "### 6. **Módulo (`%`)**\n",
    "   - **Descrição**: Retorna o resto da divisão do primeiro valor pelo segundo.\n",
    "   - **Exemplo**: `10 % 3` resulta em `1`\n",
    "   - **Uso**: `f = 25 % 4` (a variável `f` receberá o valor `1`)\n",
    "\n",
    "### 7. **Exponenciação (`**`)**\n",
    "   - **Descrição**: Eleva o primeiro valor à potência do segundo valor.\n",
    "   - **Exemplo**: `2 ** 3` resulta em `8`\n",
    "   - **Uso**: `g = 5 ** 2` (a variável `g` receberá o valor `25`)\n",
    "\n",
    "### 8. **Negação (`-`)**\n",
    "   - **Descrição**: Inverte o sinal de um valor numérico.\n",
    "   - **Exemplo**: `-5` resulta em `-5`\n",
    "   - **Uso**: `h = -10` (a variável `h` receberá o valor `-10`)\n",
    "\n"
   ]
  },
  {
   "cell_type": "markdown",
   "metadata": {},
   "source": [
    "### Exemplo Completo com Variáveis:"
   ]
  },
  {
   "cell_type": "code",
   "execution_count": 1,
   "metadata": {},
   "outputs": [
    {
     "name": "stdout",
     "output_type": "stream",
     "text": [
      "Operadores aritméticos\n",
      "13 8 35 5.0 4 1 27 -15 15\n"
     ]
    }
   ],
   "source": [
    "\n",
    "print(\"Operadores aritméticos\")\n",
    "\n",
    "a = 10 + 3    # a será 13\n",
    "b = 10 - 2    # b será 8\n",
    "c = 7 * 5     # c será 35\n",
    "d = 20 / 4    # d será 5.0\n",
    "e = 9 // 2    # e será 4\n",
    "f = 9 % 2     # f será 1\n",
    "g = 3 ** 3    # g será 27\n",
    "h = -15       # h será -15\n",
    "i = +15       # i será 15\n",
    "print(a, b, c, d, e, f, g, h, i)"
   ]
  }
 ],
 "metadata": {
  "kernelspec": {
   "display_name": "Python 3",
   "language": "python",
   "name": "python3"
  },
  "language_info": {
   "codemirror_mode": {
    "name": "ipython",
    "version": 3
   },
   "file_extension": ".py",
   "mimetype": "text/x-python",
   "name": "python",
   "nbconvert_exporter": "python",
   "pygments_lexer": "ipython3",
   "version": "3.12.5"
  }
 },
 "nbformat": 4,
 "nbformat_minor": 2
}
