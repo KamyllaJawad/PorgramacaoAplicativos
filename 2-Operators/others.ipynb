{
 "cells": [
  {
   "cell_type": "markdown",
   "metadata": {},
   "source": [
    "Além dos operadores lógicos e de atribuição, Python possui outros tipos importantes de operadores que são frequentemente utilizados em programação. Aqui estão alguns deles:\n",
    "\n"
   ]
  },
  {
   "cell_type": "markdown",
   "metadata": {},
   "source": [
    "### 1. **Operadores Relacionais (ou de Comparação)**\n",
    "   - **Descrição**: Usados para comparar dois valores e retornar um valor booleano (`True` ou `False`).\n",
    "   - **Operadores**:\n",
    "     - **`==`**: Verifica se dois valores são iguais.\n",
    "       - Exemplo: `5 == 5` resulta em `True`\n",
    "     - **`!=`**: Verifica se dois valores são diferentes.\n",
    "       - Exemplo: `5 != 3` resulta em `True`\n",
    "     - **`>`**: Verifica se o valor à esquerda é maior que o valor à direita.\n",
    "       - Exemplo: `7 > 3` resulta em `True`\n",
    "     - **`<`**: Verifica se o valor à esquerda é menor que o valor à direita.\n",
    "       - Exemplo: `4 < 9` resulta em `True`\n",
    "     - **`>=`**: Verifica se o valor à esquerda é maior ou igual ao valor à direita.\n",
    "       - Exemplo: `6 >= 6` resulta em `True`\n",
    "     - **`<=`**: Verifica se o valor à esquerda é menor ou igual ao valor à direita.\n",
    "       - Exemplo: `2 <= 3` resulta em `True`"
   ]
  },
  {
   "cell_type": "code",
   "execution_count": null,
   "metadata": {},
   "outputs": [],
   "source": [
    "### 1. **Operadores Relacionais (ou de Comparação)**\n",
    "a = 10\n",
    "b = 20\n",
    "\n",
    "print(a == b)  # Verifica se a é igual a b, resultado: False\n",
    "print(a != b)  # Verifica se a é diferente de b, resultado: True\n",
    "print(a > b)   # Verifica se a é maior que b, resultado: False\n",
    "print(a < b)   # Verifica se a é menor que b, resultado: True\n",
    "print(a >= 10) # Verifica se a é maior ou igual a 10, resultado: True\n",
    "print(b <= 15) # Verifica se b é menor ou igual a 15, resultado: False\n"
   ]
  },
  {
   "cell_type": "markdown",
   "metadata": {},
   "source": [
    "### 2. **Operadores de Identidade**\n",
    "   - **Descrição**: Usados para verificar se duas variáveis referem-se ao mesmo objeto na memória.\n",
    "   - **Operadores**:\n",
    "     - **`is`**: Retorna `True` se as variáveis comparadas forem o mesmo objeto.\n",
    "       - Exemplo: `a = [1, 2, 3]; b = a; a is b` resulta em `True`\n",
    "     - **`is not`**: Retorna `True` se as variáveis comparadas não forem o mesmo objeto.\n",
    "       - Exemplo: `a = [1, 2, 3]; b = [1, 2, 3]; a is not b` resulta em `True`"
   ]
  },
  {
   "cell_type": "code",
   "execution_count": null,
   "metadata": {},
   "outputs": [],
   "source": [
    "### 2. **Operadores de Identidade**\n",
    "\n",
    "x = [1, 2, 3]\n",
    "y = x\n",
    "z = [1, 2, 3]\n",
    "\n",
    "print(x is y)     # Verifica se x e y são o mesmo objeto, resultado: True\n",
    "print(x is z)     # Verifica se x e z são o mesmo objeto, resultado: False\n",
    "print(x is not z) # Verifica se x e z não são o mesmo objeto, resultado: True\n"
   ]
  },
  {
   "cell_type": "markdown",
   "metadata": {},
   "source": [
    "\n",
    "### 3. **Operadores de Associação (ou de Pertinência)**\n",
    "   - **Descrição**: Usados para verificar se um valor ou variável está presente em uma sequência, como listas, tuplas, ou strings.\n",
    "   - **Operadores**:\n",
    "     - **`in`**: Retorna `True` se o valor estiver presente na sequência.\n",
    "       - Exemplo: `'a' in 'banana'` resulta em `True`\n",
    "     - **`not in`**: Retorna `True` se o valor não estiver presente na sequência.\n",
    "       - Exemplo: `'x' not in 'banana'` resulta em `True`"
   ]
  },
  {
   "cell_type": "code",
   "execution_count": null,
   "metadata": {},
   "outputs": [],
   "source": [
    "### 3. **Operadores de Associação (ou de Pertinência)**\n",
    "\n",
    "frutas = ['maçã', 'banana', 'laranja']\n",
    "\n",
    "print('banana' in frutas)    # Verifica se 'banana' está na lista frutas, resultado: True\n",
    "print('uva' in frutas)       # Verifica se 'uva' está na lista frutas, resultado: False\n",
    "print('abacaxi' not in frutas) # Verifica se 'abacaxi' não está na lista frutas, resultado: True\n"
   ]
  },
  {
   "cell_type": "markdown",
   "metadata": {},
   "source": [
    "\n",
    "### 4. **Operadores Bit a Bit (ou Bitwise)**\n",
    "   - **Descrição**: Operam diretamente nos bits de números inteiros.\n",
    "   - **Operadores**:\n",
    "     - **`&`**: AND bit a bit.\n",
    "       - Exemplo: `5 & 3` (em binário: `101 & 011` resulta em `001`, ou seja, `1` em decimal)\n",
    "     - **`|`**: OR bit a bit.\n",
    "       - Exemplo: `5 | 3` (em binário: `101 | 011` resulta em `111`, ou seja, `7` em decimal)\n",
    "     - **`^`**: XOR bit a bit.\n",
    "       - Exemplo: `5 ^ 3` (em binário: `101 ^ 011` resulta em `110`, ou seja, `6` em decimal)\n",
    "     - **`~`**: NOT bit a bit (inversão de bits).\n",
    "       - Exemplo: `~5` (inversão de `101` resulta em `-6`, pois `~x` é equivalente a `-(x+1)`)\n",
    "     - **`<<`**: Deslocamento à esquerda (shift left).\n",
    "       - Exemplo: `5 << 1` (em binário: `101` deslocado à esquerda por 1 bit resulta em `1010`, ou seja, `10` em decimal)\n",
    "     - **`>>`**: Deslocamento à direita (shift right).\n",
    "       - Exemplo: `5 >> 1` (em binário: `101` deslocado à direita por 1 bit resulta em `10`, ou seja, `2` em decimal)"
   ]
  },
  {
   "cell_type": "code",
   "execution_count": null,
   "metadata": {},
   "outputs": [],
   "source": [
    "### 4. **Operadores Bit a Bit (ou Bitwise)**\n",
    "\n",
    "m = 5  # Em binário: 101\n",
    "n = 3  # Em binário: 011\n",
    "\n",
    "print(m & n)  # AND bit a bit, resultado: 1 (em binário: 001)\n",
    "print(m | n)  # OR bit a bit, resultado: 7 (em binário: 111)\n",
    "print(m ^ n)  # XOR bit a bit, resultado: 6 (em binário: 110)\n",
    "print(~m)     # NOT bit a bit, resultado: -6 (em binário: inversão de 101 -> -110)\n",
    "print(m << 1) # Deslocamento à esquerda, resultado: 10 (em binário: 1010)\n",
    "print(m >> 1) # Deslocamento à direita, resultado: 2 (em binário: 10)\n"
   ]
  },
  {
   "cell_type": "markdown",
   "metadata": {},
   "source": [
    "\n",
    "Esses operadores são fundamentais para realizar operações básicas e complexas em Python, e cada um é utilizado em contextos específicos, dependendo das necessidades do código.\n"
   ]
  },
  {
   "cell_type": "markdown",
   "metadata": {},
   "source": [
    "### Sendo assim...\n",
    "\n",
    "1. **Operadores Relacionais**: \n",
    "   - Esses operadores são usados para fazer comparações entre valores. Eles retornam um valor booleano (`True` ou `False`).\n",
    "  \n",
    "2. **Operadores de Identidade**:\n",
    "   - `is` e `is not` são usados para verificar se duas variáveis apontam para o mesmo objeto na memória, não apenas se seus valores são iguais.\n",
    "  \n",
    "3. **Operadores de Associação**:\n",
    "   - `in` e `not in` são usados para verificar se um elemento está presente ou não em uma sequência, como uma lista, tupla ou string.\n",
    "\n",
    "4. **Operadores Bit a Bit**:\n",
    "   - Esses operadores trabalham no nível de bits, manipulando diretamente os bits dos números inteiros. São usados principalmente em situações onde a manipulação de bits é necessária, como em programação de sistemas e operações de baixo nível."
   ]
  }
 ],
 "metadata": {
  "kernelspec": {
   "display_name": "Python 3",
   "language": "python",
   "name": "python3"
  },
  "language_info": {
   "codemirror_mode": {
    "name": "ipython",
    "version": 3
   },
   "file_extension": ".py",
   "mimetype": "text/x-python",
   "name": "python",
   "nbconvert_exporter": "python",
   "pygments_lexer": "ipython3",
   "version": "3.12.5"
  }
 },
 "nbformat": 4,
 "nbformat_minor": 2
}
