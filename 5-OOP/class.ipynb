{
 "cells": [
  {
   "cell_type": "markdown",
   "metadata": {},
   "source": [
    "# Conceito de Classes `class`"
   ]
  },
  {
   "cell_type": "markdown",
   "metadata": {},
   "source": [
    "Uma **classe** em Python é um modelo que descreve os atributos (dados) e comportamentos (métodos) que um objeto pode ter. Em essência, uma classe é a definição de um tipo de dado personalizado que combina dados e funções para operar nesses dados. \n",
    "\n",
    "\n",
    "**Exemplo:** Um carro pode ser uma classe, e as características como cor, marca, e modelo são os atributos, enquanto as funcionalidades como acelerar, frear e buzinar são os comportamentos (métodos), mas isso veremos em outro momento.\n"
   ]
  },
  {
   "cell_type": "markdown",
   "metadata": {},
   "source": [
    "## Quanto utilizar classes?"
   ]
  },
  {
   "cell_type": "markdown",
   "metadata": {},
   "source": [
    "1. **Agrupamento de Dados e Comportamento**:\n",
    "   - Se você tem dados relacionados e quer associá-los a comportamentos específicos, as classes são ideais. Por exemplo, se você está modelando um carro, pode armazenar atributos como marca e cor e definir comportamentos como acelerar e frear.\n",
    "   \n",
    "2. **Modelagem de Entidades Complexas**:\n",
    "   - Quando você precisa modelar entidades do mundo real, como um \"usuário\", \"produto\", ou \"pedido\", as classes permitem encapsular dados e funções que fazem sentido juntas.\n",
    "\n",
    "3. **Reutilização de Código e Extensão**:\n",
    "   - Se você tem comportamento repetitivo que pode ser reutilizado em várias partes do seu sistema (por exemplo, diferentes tipos de veículos com características comuns), você pode definir classes básicas e depois estender suas funcionalidades com subclasses.\n",
    "\n",
    "4. **Manutenção e Expansão de Sistemas**:\n",
    "   - Classes facilitam a organização de sistemas grandes e complexos. Por exemplo, em sistemas que crescem com novas funcionalidades, as classes ajudam a segmentar o código e evitam confusões.\n",
    "\n",
    "5. **Trabalhar com Objetos Reais**:\n",
    "   - Se o problema que você está resolvendo envolve manipular \"objetos\" (clientes, produtos, transações), faz sentido usar classes para modelar esses objetos."
   ]
  },
  {
   "cell_type": "markdown",
   "metadata": {},
   "source": [
    "## Estrutura Básica de uma Classe"
   ]
  },
  {
   "cell_type": "markdown",
   "metadata": {},
   "source": [
    "Aqui está a estrutura básica de uma classe em Python:"
   ]
  },
  {
   "cell_type": "code",
   "execution_count": null,
   "metadata": {},
   "outputs": [],
   "source": [
    "class NomeDaClasse:\n",
    "    def __init__(self, atributo1, atributo2):\n",
    "        self.atributo1 = atributo1  # Atributo da classe\n",
    "        self.atributo2 = atributo2  # Atributo da classe\n",
    "\n",
    "    def metodo(self):\n",
    "        # Comportamento (método) da classe\n",
    "        print(f\"O valor do atributo1 é: {self.atributo1}\")"
   ]
  },
  {
   "cell_type": "markdown",
   "metadata": {},
   "source": [
    "o exemplo acima é uma classe simples com dois atributos e um método.\n",
    "\n",
    "Os métodos de uma classe são funções que operam nos dados da classe. O método `__init__` é um método especial chamado de construtor, que é executado automaticamente quando um objeto da classe é criado.\n",
    "\n",
    "Os atributos de uma classe são variáveis que armazenam dados. Eles são acessados usando a notação de ponto (`.`) seguida pelo nome do atributo.\n",
    "\n",
    "O parametro `self` é uma referência ao objeto atual e é usado para acessar os atributos e métodos da classe.\n",
    "\n"
   ]
  },
  {
   "cell_type": "markdown",
   "metadata": {},
   "source": [
    "## Exemplos Práticos"
   ]
  },
  {
   "cell_type": "markdown",
   "metadata": {},
   "source": [
    "#### **Exemplo 1: Modelando um Carro**"
   ]
  },
  {
   "cell_type": "markdown",
   "metadata": {},
   "source": [
    "\n",
    "Vamos criar uma classe simples para modelar um carro."
   ]
  },
  {
   "cell_type": "code",
   "execution_count": null,
   "metadata": {},
   "outputs": [],
   "source": [
    "class Carro:\n",
    "    def __init__(self, marca, modelo, ano):\n",
    "        self.marca = marca\n",
    "        self.modelo = modelo\n",
    "        self.ano = ano\n",
    "        self.velocidade = 0  # Inicia com velocidade 0\n",
    "\n",
    "    def acelerar(self, incremento):\n",
    "        self.velocidade += incremento\n",
    "        print(f\"O carro {self.marca} {self.modelo} acelerou para {self.velocidade} km/h.\")\n",
    "\n",
    "    def frear(self, decremento):\n",
    "        self.velocidade = max(0, self.velocidade - decremento)  # Não deixa a velocidade ser negativa\n",
    "        print(f\"O carro {self.marca} {self.modelo} reduziu para {self.velocidade} km/h.\")\n"
   ]
  },
  {
   "cell_type": "markdown",
   "metadata": {},
   "source": [
    "Agora podemos criar um objeto da classe `Carro` e utilizá-lo:\n"
   ]
  },
  {
   "cell_type": "code",
   "execution_count": null,
   "metadata": {},
   "outputs": [],
   "source": [
    "meu_carro = Carro(\"Ford\", \"Fiesta\", 2020)\n",
    "\n",
    "meu_carro.acelerar(50)  # Acelera o carro\n",
    "meu_carro.frear(20)     # Reduz a velocidade"
   ]
  },
  {
   "cell_type": "markdown",
   "metadata": {},
   "source": [
    "#### **Exemplo 2: Sistema de Pedidos**"
   ]
  },
  {
   "cell_type": "markdown",
   "metadata": {},
   "source": [
    "\n",
    "Um exemplo mais prático de um sistema de pedidos:"
   ]
  },
  {
   "cell_type": "code",
   "execution_count": null,
   "metadata": {},
   "outputs": [],
   "source": [
    "class Pedido:\n",
    "    def __init__(self, id_pedido, cliente, valor_total):\n",
    "        self.id_pedido = id_pedido\n",
    "        self.cliente = cliente\n",
    "        self.valor_total = valor_total\n",
    "        self.status = \"Novo\"  # Status inicial do pedido\n",
    "\n",
    "    def confirmar_pedido(self):\n",
    "        self.status = \"Confirmado\"\n",
    "        print(f\"Pedido {self.id_pedido} do cliente {self.cliente} foi confirmado.\")\n",
    "\n",
    "    def cancelar_pedido(self):\n",
    "        self.status = \"Cancelado\"\n",
    "        print(f\"Pedido {self.id_pedido} foi cancelado.\")\n"
   ]
  },
  {
   "cell_type": "markdown",
   "metadata": {},
   "source": [
    "Uso:\n"
   ]
  },
  {
   "cell_type": "code",
   "execution_count": null,
   "metadata": {},
   "outputs": [],
   "source": [
    "pedido1 = Pedido(1001, \"João\", 250.00)\n",
    "\n",
    "pedido1.confirmar_pedido()  # Confirma o pedido\n",
    "pedido1.cancelar_pedido()   # Cancela o pedido"
   ]
  },
  {
   "cell_type": "markdown",
   "metadata": {},
   "source": [
    "## Boas Práticas ao Utilizar Classes"
   ]
  },
  {
   "cell_type": "markdown",
   "metadata": {},
   "source": [
    "#### 1. **Escolha Nomes Claros para Classes e Métodos**:"
   ]
  },
  {
   "cell_type": "markdown",
   "metadata": {},
   "source": [
    "Os nomes devem ser descritivos e refletir claramente o que a classe ou método faz. Por exemplo, use `Carro` em vez de `C`, `confirmar_pedido()` em vez de `confirma()`."
   ]
  },
  {
   "cell_type": "markdown",
   "metadata": {},
   "source": [
    "#### 2. **Encapsulamento**:"
   ]
  },
  {
   "cell_type": "markdown",
   "metadata": {},
   "source": [
    "Utilize atributos e métodos privados (_ ou __) quando necessário para esconder detalhes internos da classe. Isso ajuda a evitar que outras partes do código acessem ou modifiquem dados diretamente.\n",
    "\n",
    "**Exemplo**:\n"
   ]
  },
  {
   "cell_type": "code",
   "execution_count": null,
   "metadata": {},
   "outputs": [],
   "source": [
    "class ContaBancaria:\n",
    "    def __init__(self, saldo_inicial):\n",
    "        self.__saldo = saldo_inicial  # Atributo privado\n",
    "    def depositar(self, valor):\n",
    "        self.__saldo += valor\n",
    "    def ver_saldo(self):\n",
    "        return self.__saldo"
   ]
  },
  {
   "cell_type": "markdown",
   "metadata": {},
   "source": [
    "#### 3. **Uso Apropriado do Construtor `__init__`**:"
   ]
  },
  {
   "cell_type": "markdown",
   "metadata": {},
   "source": [
    "O método `__init__` é usado para inicializar os atributos de um objeto. Ele deve configurar o estado inicial do objeto, mas evite colocar lógica de negócio complexa aqui."
   ]
  },
  {
   "cell_type": "markdown",
   "metadata": {},
   "source": [
    "#### 4. **Métodos de Acesso (Getters e Setters)**:"
   ]
  },
  {
   "cell_type": "markdown",
   "metadata": {},
   "source": [
    "Embora Python permita acesso direto a atributos, uma boa prática é fornecer métodos de acesso para garantir controle e validação ao ler ou modificar os dados.\n",
    "\n",
    "**Exemplo**:"
   ]
  },
  {
   "cell_type": "code",
   "execution_count": null,
   "metadata": {},
   "outputs": [],
   "source": [
    "class Produto:\n",
    "    def __init__(self, nome, preco):\n",
    "        self.__nome = nome\n",
    "        self.__preco = preco\n",
    "\n",
    "    def get_preco(self):\n",
    "        return self.__preco\n",
    "    \n",
    "    def set_preco(self, novo_preco):\n",
    "        if novo_preco > 0:\n",
    "            self.__preco = novo_preco\n",
    "        else:\n",
    "            print(\"Preço inválido.\")     "
   ]
  },
  {
   "cell_type": "markdown",
   "metadata": {},
   "source": [
    "#### 5. **Divida a Responsabilidade**:"
   ]
  },
  {
   "cell_type": "markdown",
   "metadata": {},
   "source": [
    "Cada classe deve ser responsável por uma única parte do sistema. Isso segue o princípio **SRP (Single Responsibility Principle)**.\n",
    "\n",
    "**Exemplo**: Em um sistema de loja, uma classe `Cliente` deve ser responsável por armazenar dados do cliente, enquanto uma classe `Pedido` deve gerenciar os pedidos."
   ]
  },
  {
   "cell_type": "markdown",
   "metadata": {},
   "source": [
    "#### 6. **Evite o Uso Excessivo de Classes**:"
   ]
  },
  {
   "cell_type": "markdown",
   "metadata": {},
   "source": [
    "Classes são úteis, mas nem tudo precisa ser uma classe. Em casos simples, como funções utilitárias ou operações pequenas, funções podem ser mais apropriadas."
   ]
  },
  {
   "cell_type": "markdown",
   "metadata": {},
   "source": [
    "#### 7. **Modularize o Código**:"
   ]
  },
  {
   "cell_type": "markdown",
   "metadata": {},
   "source": [
    "Para projetos maiores, organize suas classes em módulos e pacotes. Isso facilita a manutenção do código e mantém o projeto organizado."
   ]
  },
  {
   "cell_type": "markdown",
   "metadata": {},
   "source": [
    "#### 8. **Documente o Código**:"
   ]
  },
  {
   "cell_type": "markdown",
   "metadata": {},
   "source": [
    "Adicione docstrings para classes e métodos explicando o propósito e o comportamento esperado. Isso facilita a compreensão e manutenção por outros desenvolvedores (ou por você mesmo no futuro)."
   ]
  },
  {
   "cell_type": "code",
   "execution_count": null,
   "metadata": {},
   "outputs": [],
   "source": [
    "class Produto:\n",
    "    # Classe que representa um produto no sistema de estoque.\n",
    "    def __init__(self, nome, preco):\n",
    "        #Inicializa o produto com nome e preço.\n",
    "        self.nome = nome\n",
    "        self.preco = preco   "
   ]
  },
  {
   "cell_type": "markdown",
   "metadata": {},
   "source": [
    "## Sendo Assim:"
   ]
  },
  {
   "cell_type": "markdown",
   "metadata": {},
   "source": [
    "Não necessita o uso de classes quando você está lidando com tarefas simples ou funções independentes, para tarefas muito simples, como um script pequeno para calcular algo rápido, o uso de classes pode ser desnecessário.\n",
    "\n",
    "Classes são mais úteis quando você precisa modelar entidades complexas, agrupar dados e comportamentos relacionados, e organizar seu código de maneira modular e reutilizável.\n",
    "\n",
    "Se você só precisa de funções que não estão relacionadas a objetos ou dados compartilhados, prefira usar funções ao invés de classes.\n",
    "\n",
    "\n",
    "Classes são uma excelente ferramenta para modelar entidades do mundo real e organizar seu código de maneira modular, reutilizável e fácil de manter.\n",
    "\n",
    "Elas são essenciais para programação orientada a objetos, e ao aplicá-las de maneira cuidadosa e seguindo boas práticas, você pode melhorar a qualidade e a escalabilidade do seu código."
   ]
  }
 ],
 "metadata": {
  "kernelspec": {
   "display_name": "Python 3",
   "language": "python",
   "name": "python3"
  },
  "language_info": {
   "codemirror_mode": {
    "name": "ipython",
    "version": 3
   },
   "file_extension": ".py",
   "mimetype": "text/x-python",
   "name": "python",
   "nbconvert_exporter": "python",
   "pygments_lexer": "ipython3",
   "version": "3.12.5"
  }
 },
 "nbformat": 4,
 "nbformat_minor": 2
}
