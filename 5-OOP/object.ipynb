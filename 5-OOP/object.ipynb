{
 "cells": [
  {
   "cell_type": "markdown",
   "metadata": {},
   "source": [
    "# Conceito de Objetos `object`"
   ]
  },
  {
   "cell_type": "markdown",
   "metadata": {},
   "source": [
    "Um **objeto** é uma instância de uma classe, ou seja, é um exemplar específico da estrutura definida pela classe. Em outras palavras, quando você cria um objeto, está criando uma versão concreta da classe, com seus próprios valores de atributos e comportamentos.\n",
    "\n",
    "Imagine que a **classe** seja a planta de uma casa e o **objeto** seja uma casa construída a partir dessa planta. Cada casa (objeto) pode ser ligeiramente diferente (com cores ou tamanhos diferentes), mas segue o mesmo plano base (classe).\n",
    "\n",
    "**Exemplo:** Um carro específico, como um Ford Fiesta azul de 2020, seria um objeto da classe \"Carro\"."
   ]
  },
  {
   "cell_type": "markdown",
   "metadata": {},
   "source": [
    "## Características dos Objetos"
   ]
  },
  {
   "cell_type": "markdown",
   "metadata": {},
   "source": [
    "1. **Estado**\n",
    "   - Representado pelos **atributos** de um objeto. O estado define as características de um objeto em um determinado momento. Exemplo: o estado de um carro poderia ser \"cor: azul\", \"velocidade: 60 km/h\"."
   ]
  },
  {
   "cell_type": "markdown",
   "metadata": {},
   "source": [
    "2. **Comportamento**\n",
    "   - Definido pelos **métodos** da classe. O comportamento de um objeto é o que ele pode fazer ou como ele pode interagir com o mundo. Exemplo: um carro pode acelerar ou frear.\n"
   ]
  },
  {
   "cell_type": "markdown",
   "metadata": {},
   "source": [
    "3. **Identidade**\n",
    "   - Todo objeto possui uma identidade única, mesmo que seja de uma mesma classe. Isso é o que diferencia um objeto de outro. Em Python, podemos verificar a identidade de um objeto com a função `id()`, que retorna um identificador único para o objeto."
   ]
  },
  {
   "cell_type": "markdown",
   "metadata": {},
   "source": [
    "## Quando Criar um Objeto?"
   ]
  },
  {
   "cell_type": "markdown",
   "metadata": {},
   "source": [
    "Você cria um objeto quando quer representar uma entidade do mundo real no seu código, com dados (atributos) e comportamentos (métodos). Ao instanciar uma classe, você cria um objeto que pode interagir e manipular esses dados e comportamentos."
   ]
  },
  {
   "cell_type": "markdown",
   "metadata": {},
   "source": [
    "## Como Criar um Objeto?"
   ]
  },
  {
   "cell_type": "markdown",
   "metadata": {},
   "source": [
    "Para criar um objeto, você usa o nome da classe seguido de parênteses. Isso chama o método especial `__init__`, também conhecido como o **construtor**, que inicializa os atributos do objeto."
   ]
  },
  {
   "cell_type": "markdown",
   "metadata": {},
   "source": [
    "## Estrutura de Criação um Objeto"
   ]
  },
  {
   "cell_type": "code",
   "execution_count": null,
   "metadata": {},
   "outputs": [],
   "source": [
    "# Definindo uma classe simples de Carro\n",
    "class Carro:\n",
    "    def __init__(self, marca, modelo, ano):\n",
    "        self.marca = marca  # Atributo de instância\n",
    "        self.modelo = modelo\n",
    "        self.ano = ano\n",
    "\n",
    "    def detalhes(self):\n",
    "        print(f\"Carro: {self.marca} {self.modelo}, Ano: {self.ano}\")\n",
    "\n",
    "# Criando um objeto da classe Carro\n",
    "meu_carro = Carro(\"Toyota\", \"Corolla\", 2021)\n",
    "\n",
    "# Acessando um método do objeto\n",
    "meu_carro.detalhes()  # Output: Carro: Toyota Corolla, Ano: 2021\n"
   ]
  },
  {
   "cell_type": "markdown",
   "metadata": {},
   "source": [
    "Aqui, `meu_carro` é um **objeto** (ou instância) da classe `Carro`. Cada vez que você chama `Carro()`, está criando um novo objeto com os atributos e métodos da classe."
   ]
  },
  {
   "cell_type": "markdown",
   "metadata": {},
   "source": [
    "## Acessando Atributos e Métodos de um Objeto"
   ]
  },
  {
   "cell_type": "markdown",
   "metadata": {},
   "source": [
    "Depois de criar um objeto, você pode acessar os atributos e métodos diretamente através da **notação de ponto** (`.`)."
   ]
  },
  {
   "cell_type": "markdown",
   "metadata": {},
   "source": [
    "#### Exemplo de Acesso a Atributos e Métodos:\n",
    "\n",
    "\n",
    "\n",
    "```python\n",
    "class Pessoa:\n",
    "    def __init__(self, nome, idade):\n",
    "        self.nome = nome\n",
    "        self.idade = idade\n",
    "\n",
    "    def saudacao(self):\n",
    "        print(f\"Olá, meu nome é {self.nome} e eu tenho {self.idade} anos.\")\n",
    "\n",
    "# Criando um objeto\n",
    "pessoa1 = Pessoa(\"Alice\", 30)\n",
    "\n",
    "# Acessando atributos\n",
    "print(pessoa1.nome)   # Output: Alice\n",
    "print(pessoa1.idade)  # Output: 30\n",
    "\n",
    "# Chamando um método\n",
    "pessoa1.saudacao()    # Output: Olá, meu nome é Alice e eu tenho 30 anos.\n",
    "```\n",
    "\n",
    "### Atualizando o Estado de um Objeto\n",
    "\n",
    "Os atributos de um objeto podem ser modificados diretamente, o que altera o **estado** daquele objeto.\n",
    "\n",
    "#### Exemplo:\n",
    "\n",
    "```python\n",
    "class Produto:\n",
    "    def __init__(self, nome, preco):\n",
    "        self.nome = nome\n",
    "        self.preco = preco\n",
    "\n",
    "    def aplicar_desconto(self, porcentagem):\n",
    "        self.preco -= self.preco * (porcentagem / 100)\n",
    "\n",
    "# Criando um objeto\n",
    "produto = Produto(\"Notebook\", 3000)\n",
    "\n",
    "# Atualizando o estado (alterando o preço com desconto)\n",
    "produto.aplicar_desconto(10)\n",
    "\n",
    "# Acessando o novo estado\n",
    "print(f\"O preço do {produto.nome} após o desconto é: R$ {produto.preco}\")  # Output: O preço do Notebook após o desconto é: R$ 2700.0\n",
    "```\n",
    "\n",
    "Aqui, o estado do objeto `produto` mudou depois de aplicar o desconto.\n",
    "\n",
    "### Comparação Entre Objetos\n",
    "\n",
    "Embora dois objetos possam ser criados a partir da mesma classe e terem os mesmos valores de atributos, eles ainda são **objetos diferentes** com suas próprias identidades. Isso é importante para entender como os objetos funcionam internamente.\n",
    "\n",
    "#### Exemplo:\n",
    "\n",
    "```python\n",
    "carro1 = Carro(\"Ford\", \"Fusion\", 2019)\n",
    "carro2 = Carro(\"Ford\", \"Fusion\", 2019)\n",
    "\n",
    "# Verificando se são o mesmo objeto\n",
    "print(carro1 == carro2)  # Output: False (são objetos diferentes)\n",
    "print(id(carro1), id(carro2))  # Mostra identificadores diferentes\n",
    "```\n",
    "\n",
    "Embora `carro1` e `carro2` tenham os mesmos atributos, eles são **objetos distintos** em memória.\n",
    "\n",
    "### Boas Práticas com Objetos\n",
    "\n",
    "1. **Use Classes e Objetos para Modelar Entidades do Mundo Real**:\n",
    "   - Se você está modelando um conceito que possui propriedades (dados) e comportamentos (funções), as classes e objetos são ideais para isso. Modelar de forma intuitiva ajuda a tornar o código mais legível e organizado.\n",
    "\n",
    "2. **Mantenha os Objetos Independentes**:\n",
    "   - Evite manipular atributos de um objeto diretamente em outro. Isso pode introduzir dependências desnecessárias e dificultar a manutenção.\n",
    "\n",
    "3. **Encapsule Dados**:\n",
    "   - Se um atributo não deve ser alterado diretamente por outras partes do código, use o conceito de **encapsulamento** para proteger esses dados.\n",
    "   \n",
    "   ```python\n",
    "   class Funcionario:\n",
    "       def __init__(self, nome, salario):\n",
    "           self.nome = nome\n",
    "           self.__salario = salario  # Atributo \"privado\"\n",
    "       \n",
    "       def ver_salario(self):\n",
    "           return self.__salario\n",
    "\n",
    "   funcionario = Funcionario(\"Carlos\", 5000)\n",
    "   print(funcionario.ver_salario())  # Output: 5000\n",
    "   ```\n",
    "\n",
    "4. **Utilize o Método `__str__` para Representação de Objetos**:\n",
    "   - Para melhorar a legibilidade ao exibir objetos, implemente o método especial `__str__` para que a classe retorne uma representação em string mais clara e útil.\n",
    "\n",
    "   ```python\n",
    "   class Carro:\n",
    "       def __init__(self, marca, modelo, ano):\n",
    "           self.marca = marca\n",
    "           self.modelo = modelo\n",
    "           self.ano = ano\n",
    "       \n",
    "       def __str__(self):\n",
    "           return f\"{self.marca} {self.modelo} ({self.ano})\"\n",
    "\n",
    "   meu_carro = Carro(\"Toyota\", \"Corolla\", 2021)\n",
    "   print(meu_carro)  # Output: Toyota Corolla (2021)\n",
    "   ```\n",
    "\n",
    "### Conclusão\n",
    "\n",
    "Objetos são a concretização de classes em Python. Eles permitem que você modele entidades do mundo real no código, mantendo dados e comportamentos organizados. A flexibilidade dos objetos permite criar sistemas modulares, reutilizáveis e fáceis de manter. Ao trabalhar com objetos, você pode modificar o estado de cada instância de maneira independente, o que é uma grande vantagem em sistemas complexos.\n",
    "\n",
    "Se quiser explorar mais sobre objetos ou outro tópico relacionado, me avise!"
   ]
  },
  {
   "cell_type": "markdown",
   "metadata": {},
   "source": [
    "## Boas Práticas ao Utilizar Objetos"
   ]
  },
  {
   "cell_type": "markdown",
   "metadata": {},
   "source": [
    "## Sendo Assim:"
   ]
  }
 ],
 "metadata": {
  "language_info": {
   "name": "python"
  }
 },
 "nbformat": 4,
 "nbformat_minor": 2
}
