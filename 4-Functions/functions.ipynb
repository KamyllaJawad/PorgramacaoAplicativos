{
 "cells": [
  {
   "cell_type": "markdown",
   "metadata": {},
   "source": [
    "# **Utilizando Funções com o `def`**"
   ]
  },
  {
   "cell_type": "markdown",
   "metadata": {},
   "source": [
    "Funções em Python são blocos de código reutilizáveis que executam uma tarefa específica. \n",
    "\n",
    "Elas ajudam a organizar o código, tornando-o mais legível, reutilizável e eficiente.\n",
    "\n",
    "Para definir uma função em Python, usamos a palavra-chave `def`, seguida pelo nome da função, parênteses (que podem conter parâmetros) e dois pontos. \n",
    "\n",
    "O corpo da função é indentado, o que indica que as instruções pertencem à função."
   ]
  },
  {
   "cell_type": "markdown",
   "metadata": {},
   "source": [
    "## Estrutura Básica"
   ]
  },
  {
   "cell_type": "markdown",
   "metadata": {},
   "source": [
    "Neste exemplo, a função `saudacao()` não recebe nenhum argumento e simplesmente imprime uma mensagem."
   ]
  },
  {
   "cell_type": "code",
   "execution_count": 7,
   "metadata": {},
   "outputs": [],
   "source": [
    "def saudacao():\n",
    "    print(\"Olá! Bem-vindo ao mundo de Python.\")\n",
    "\n",
    "print(saudacao())"
   ]
  },
  {
   "cell_type": "markdown",
   "metadata": {},
   "source": [
    "## Exemplos Práticos"
   ]
  },
  {
   "cell_type": "markdown",
   "metadata": {},
   "source": [
    "#### 1. **Funções com Parâmetros**"
   ]
  },
  {
   "cell_type": "markdown",
   "metadata": {},
   "source": [
    "Você pode passar **parâmetros** para uma função, permitindo que ela receba valores dinâmicos e os processe."
   ]
  },
  {
   "cell_type": "code",
   "execution_count": null,
   "metadata": {},
   "outputs": [],
   "source": [
    "nome = input(\"Digite seu nome: \")\n",
    "\n",
    "def saudacao_personalizada(nome):\n",
    "    print(f\"Olá, {nome}! Bem-vindo ao mundo de Python.\")\n",
    "    \n",
    "print(saudacao_personalizada(nome))"
   ]
  },
  {
   "cell_type": "markdown",
   "metadata": {},
   "source": [
    "**Quando Usar:**\n",
    "- Quando sua função precisa de informações externas para realizar uma operação.\n",
    "- Quando você deseja reutilizar a mesma função com diferentes valores.\n",
    "\n",
    "**Boas Práticas:**\n",
    "- Nomeie os parâmetros de forma descritiva, para que fique claro o que a função espera.\n",
    "- Documente o que cada parâmetro faz com uma docstring.\n",
    "- Valide os parâmetros dentro da função, se necessário (ex: garantir que sejam do tipo correto)."
   ]
  },
  {
   "cell_type": "markdown",
   "metadata": {},
   "source": [
    "#### 2. **Funções com Retorno**"
   ]
  },
  {
   "cell_type": "markdown",
   "metadata": {},
   "source": [
    "Às vezes, você quer que a função faça um cálculo ou operação e **retorne** o resultado. Para isso, usamos a palavra-chave `return`.\n",
    "Exemplo de função que retorna um valor:"
   ]
  },
  {
   "cell_type": "code",
   "execution_count": null,
   "metadata": {},
   "outputs": [],
   "source": [
    "def soma(a, b):\n",
    "    return a + b\n",
    "\n",
    "resultado = soma(3, 5)\n",
    "print(resultado) "
   ]
  },
  {
   "cell_type": "markdown",
   "metadata": {},
   "source": [
    "**Quando Usar:**\n",
    "- Quando você precisa que a função devolva um valor para que outras partes do programa possam usá-lo.\n",
    "- Quando a função executa uma operação e retorna o resultado.\n",
    "\n",
    "**Boas Práticas:**\n",
    "- Certifique-se de que a função sempre retorne o valor esperado. Funções que não retornam consistentemente algo útil podem ser confusas.\n",
    "- Documente o tipo de dado que será retornado."
   ]
  },
  {
   "cell_type": "markdown",
   "metadata": {},
   "source": [
    "#### 3. **Funções com Parâmetros Opcionais**\n"
   ]
  },
  {
   "cell_type": "markdown",
   "metadata": {},
   "source": [
    "Você pode definir valores padrão para parâmetros. Isso significa que, se nenhum valor for passado para o parâmetro, o valor padrão será utilizado.\n",
    "Exemplo, se você não passar um nome, o valor \"Visitante\" será usado:"
   ]
  },
  {
   "cell_type": "code",
   "execution_count": null,
   "metadata": {},
   "outputs": [],
   "source": [
    "def saudacao_generica(nome=\"Visitante\"):\n",
    "    print(f\"Olá, {nome}! Seja bem-vindo.\")\n",
    "\n",
    "saudacao_generica()  # Aqui, se você não passar um nome, o valor \"Visitante\" será usado\n",
    "saudacao_generica(\"João\")  "
   ]
  },
  {
   "cell_type": "markdown",
   "metadata": {},
   "source": [
    "**Quando Usar:**\n",
    "- Quando você quer tornar alguns parâmetros opcionais para flexibilizar o uso da função.\n",
    "- Quando você deseja fornecer valores padrão para alguns parâmetros, mas permitir que o usuário os substitua.\n",
    "\n",
    "**Boas Práticas:**\n",
    "- Defina os valores padrão com cuidado. Um valor padrão deve fazer sentido no contexto em que a função é usada.\n",
    "- Documente quais são os valores padrão e o que acontece quando o parâmetro não é fornecido."
   ]
  },
  {
   "cell_type": "markdown",
   "metadata": {},
   "source": [
    "#### 4. **Funções com Múltiplos Retornos**\n"
   ]
  },
  {
   "cell_type": "markdown",
   "metadata": {},
   "source": [
    "Uma função pode retornar mais de um valor ao mesmo tempo. Para isso, usamos uma tupla (valores separados por vírgula):"
   ]
  },
  {
   "cell_type": "code",
   "execution_count": 19,
   "metadata": {},
   "outputs": [],
   "source": [
    "def operacoes_basicas(a, b):\n",
    "    soma = a + b\n",
    "    diferenca = a - b\n",
    "    return soma, diferenca"
   ]
  },
  {
   "cell_type": "markdown",
   "metadata": {},
   "source": [
    "Ao chamar a função, você pode capturar os valores retornados:"
   ]
  },
  {
   "cell_type": "code",
   "execution_count": null,
   "metadata": {},
   "outputs": [],
   "source": [
    "resultado_soma, resultado_diferenca = operacoes_basicas(10, 5)\n",
    "print(resultado_soma) \n",
    "print(resultado_diferenca)"
   ]
  },
  {
   "cell_type": "markdown",
   "metadata": {},
   "source": [
    "**Quando Usar:**\n",
    "- Quando você precisa retornar mais de um valor relacionado para processamento posterior.\n",
    "- Quando você deseja que a função forneça informações detalhadas sobre o resultado.\n",
    "\n",
    "**Boas Práticas:**\n",
    "- Retorne uma tupla, lista ou dicionário, dependendo de qual estrutura de dados é mais clara e útil para quem estiver usando a função.\n",
    "- Certifique-se de que os retornos tenham uma ordem clara ou sejam nomeados, para que quem use a função saiba o que esperar."
   ]
  },
  {
   "cell_type": "markdown",
   "metadata": {},
   "source": [
    "#### 5. **Funções Lambda**"
   ]
  },
  {
   "cell_type": "markdown",
   "metadata": {},
   "source": [
    "Funções **lambda** são funções anônimas em Python. Elas são pequenas e definidas em uma única linha, geralmente usadas para tarefas rápidas.\n",
    "\n",
    "Exemplo de uma função lambda que soma dois números:"
   ]
  },
  {
   "cell_type": "code",
   "execution_count": null,
   "metadata": {},
   "outputs": [],
   "source": [
    "soma = lambda x, y: x + y\n",
    "print(soma(3, 5))"
   ]
  },
  {
   "cell_type": "markdown",
   "metadata": {},
   "source": [
    "**Quando Usar:**\n",
    "- Quando você precisa de uma função simples e curta que será usada uma única vez ou passada como argumento para outra função.\n",
    "- Quando você deseja escrever funções de forma mais concisa e legível.\n",
    "\n",
    "**Boas Práticas:**\n",
    "- Use lambda apenas para funções simples de uma única linha. Se a função for mais complexa, defina uma função nomeada.\n",
    "- Documente claramente onde e por que você está usando uma lambda para que o código não fique confuso para outros desenvolvedores (ou para você no futuro).\n"
   ]
  },
  {
   "cell_type": "markdown",
   "metadata": {},
   "source": [
    "\n",
    "#### 6. **Documentação de Funções (Docstrings)**"
   ]
  },
  {
   "cell_type": "markdown",
   "metadata": {},
   "source": [
    "É uma boa prática adicionar uma **docstring** (documentação) logo abaixo da definição da função para explicar o que ela faz. Isso ajuda na manutenção do código.\n",
    "\n",
    "Exemplo de função com docstring:"
   ]
  },
  {
   "cell_type": "code",
   "execution_count": 21,
   "metadata": {},
   "outputs": [],
   "source": [
    "def subtrai(a, b):\n",
    "    \"\"\"\n",
    "    Esta função retorna a subtração de dois números.\n",
    "    :param a: primeiro número\n",
    "    :param b: segundo número\n",
    "    :return: diferença entre a e b\n",
    "    \"\"\"\n",
    "    return a - b"
   ]
  },
  {
   "cell_type": "code",
   "execution_count": 22,
   "metadata": {},
   "outputs": [
    {
     "ename": "",
     "evalue": "",
     "output_type": "error",
     "traceback": [
      "\u001b[1;31mThe Kernel crashed while executing code in the current cell or a previous cell. \n",
      "\u001b[1;31mPlease review the code in the cell(s) to identify a possible cause of the failure. \n",
      "\u001b[1;31mClick <a href='https://aka.ms/vscodeJupyterKernelCrash'>here</a> for more info. \n",
      "\u001b[1;31mView Jupyter <a href='command:jupyter.viewOutput'>log</a> for further details."
     ]
    }
   ],
   "source": [
    "def calcular_media(valores):\n",
    "    \"\"\"\n",
    "    Calcula a média de uma lista de valores numéricos.\n",
    "    \n",
    "    :param valores: lista de números\n",
    "    :return: média dos números na lista\n",
    "    \"\"\"\n",
    "    return sum(valores) / len(valores)\n"
   ]
  },
  {
   "cell_type": "markdown",
   "metadata": {},
   "source": [
    "\n",
    " **Quando Usar**:\n",
    "- Sempre! Documentar suas funções é uma prática essencial, principalmente em projetos maiores ou colaborativos.\n",
    "- Quando você deseja que outros desenvolvedores saibam como usar sua função sem precisar ler o código-fonte.\n",
    "\n",
    " **Boas Práticas**:\n",
    "- Siga o padrão de docstring: explique o que a função faz, descreva os parâmetros e o tipo de dado que ela retorna.\n",
    "- Use um estilo consistente em toda a sua base de código.\n"
   ]
  },
  {
   "cell_type": "markdown",
   "metadata": {},
   "source": [
    "#### 7. **Funções com Testes e Validações**"
   ]
  },
  {
   "cell_type": "markdown",
   "metadata": {},
   "source": [
    "É importante validar os parâmetros de entrada de uma função para garantir que ela funcione corretamente.\n",
    "\n",
    "Exemplo: Quando os parâmetros de entrada são incertos (como dados de usuários ou de arquivos), ou se a função realiza cálculos críticos."
   ]
  },
  {
   "cell_type": "code",
   "execution_count": null,
   "metadata": {},
   "outputs": [],
   "source": [
    "def dividir(a, b):\n",
    "    \"\"\"\n",
    "    Divide dois números e retorna o resultado.\n",
    "    Lança uma exceção se o denominador for zero.\n",
    "    \"\"\"\n",
    "    if b == 0:\n",
    "        raise ValueError(\"O denominador não pode ser zero.\")\n",
    "    return a / b"
   ]
  },
  {
   "cell_type": "markdown",
   "metadata": {},
   "source": [
    "\n",
    "**Quando Usar:**\n",
    "- Quando a função é crítica e precisa lidar com dados externos, você deve validar os parâmetros antes de processá-los.\n",
    "\n",
    "**Boas Práticas:**\n",
    "- Sempre valide os dados recebidos, especialmente se eles forem de fontes externas (inputs de usuários, arquivos, etc.).\n",
    "- Use exceções (`try`/`except`) quando necessário para tratar erros de maneira apropriada."
   ]
  },
  {
   "cell_type": "markdown",
   "metadata": {},
   "source": [
    "## Quando Evitar o Uso de Funções com o `def` e Formas Alternativas"
   ]
  },
  {
   "cell_type": "markdown",
   "metadata": {},
   "source": [
    "Há momentos em que **não utilizar funções** pode ser a melhor abordagem para seguir boas práticas de desenvolvimento. Vou explicar alguns cenários em que o uso de funções pode ser desnecessário ou até prejudicial, e por que evitá-las nesses casos."
   ]
  },
  {
   "cell_type": "markdown",
   "metadata": {},
   "source": [
    "#### 1. **Quando a Função Faz Apenas uma Coisa Simples e Repetitiva**"
   ]
  },
  {
   "cell_type": "markdown",
   "metadata": {},
   "source": [
    "\n",
    "Se uma função realiza algo tão simples que sua criação não traz benefícios claros em termos de legibilidade ou reutilização, pode ser desnecessário encapsular esse código em uma função.\n",
    "\n",
    "**Exemplo:**\n",
    "Se você está apenas definindo uma variável ou realizando uma operação trivial que será usada uma única vez, criar uma função pode adicionar complexidade sem necessidade.\n",
    "\n",
    "```python\n",
    "# Exemplo desnecessário\n",
    "def inicializar_var():\n",
    "    return 0\n",
    "\n",
    "x = inicializar_var()\n",
    "```\n",
    "\n",
    "Neste caso, é mais direto apenas definir a variável:\n",
    "\n",
    "```python\n",
    "x = 0  # Mais simples e claro\n",
    "```\n",
    "\n",
    "**Boas Práticas**:\n",
    "\n",
    "- **Simplicidade**: Se a criação da função não contribui para a legibilidade, clareza ou reutilização, evite-a.\n",
    "- **Evite Over-Engineering**: Criar funções para coisas excessivamente simples pode tornar o código mais complexo do que precisa ser.\n",
    "\n"
   ]
  },
  {
   "cell_type": "markdown",
   "metadata": {},
   "source": [
    "#### 2. **Quando o Custo de Chamada de Função é Muito Alto**"
   ]
  },
  {
   "cell_type": "markdown",
   "metadata": {},
   "source": [
    "Em alguns cenários de **performance crítica** (como em laços muito intensivos ou em algoritmos que precisam ser otimizados ao máximo), a chamada de funções repetidas pode introduzir um custo de desempenho significativo. Cada chamada de função em Python tem um pequeno overhead, e em certos contextos, pode ser melhor evitar funções.\n",
    "\n",
    "**Exemplo:**\n",
    "Em loops de alto desempenho, como ao processar grandes volumes de dados em tempo real, funções podem adicionar latência.\n",
    "\n",
    "```python\n",
    "# Exemplo com função\n",
    "def somar(a, b):\n",
    "    return a + b\n",
    "\n",
    "for _ in range(1000000):\n",
    "    resultado = somar(1, 2)  # Milhões de chamadas de função\n",
    "```\n",
    "\n",
    "Aqui, simplesmente realizar a operação diretamente no loop pode ser mais eficiente:\n",
    "\n",
    "```python\n",
    "# Exemplo direto, sem função\n",
    "for _ in range(1000000):\n",
    "    resultado = 1 + 2  # Evita o overhead da função\n",
    "```\n",
    "\n",
    "**Boas Práticas**:\n",
    "\n",
    "- **Otimização Prematura**: Não optimize código sem uma razão clara, mas em contextos críticos de performance, evite criar funções desnecessárias.\n",
    "- **Perfis de Código**: Use ferramentas de profiling (como `cProfile`) para identificar gargalos de performance antes de decidir se a remoção de funções é necessária."
   ]
  },
  {
   "cell_type": "markdown",
   "metadata": {},
   "source": [
    "#### 3. **Quando a Função Tem Dependências Externas Demais**"
   ]
  },
  {
   "cell_type": "markdown",
   "metadata": {},
   "source": [
    "Se uma função tem muitas dependências externas (variáveis globais ou estados externos), ela pode se tornar difícil de testar e manter. Nesse caso, usar uma função não é uma boa prática porque ela viola o princípio de \"funções puras\", tornando o código mais complicado.\n",
    "\n",
    "**Exemplo:**\n",
    "Uma função que depende de várias variáveis globais para funcionar:\n",
    "\n",
    "```python\n",
    "x = 5\n",
    "y = 10\n",
    "\n",
    "def calcular_soma():\n",
    "    return x + y\n",
    "```\n",
    "\n",
    "Essa função depende de `x` e `y`, que estão fora de seu escopo. Isso dificulta o teste e o entendimento da função isoladamente. Seria melhor passar `x` e `y` como parâmetros:\n",
    "\n",
    "```python\n",
    "def calcular_soma(x, y):\n",
    "    return x + y\n",
    "```\n",
    "\n",
    "**Boas Práticas**:\n",
    "\n",
    "- **Evite Dependências Externas**: Sempre que possível, passe todas as variáveis necessárias como parâmetros, em vez de usar variáveis globais.\n",
    "- **Funções Puras**: Uma boa função deve ser previsível e isolada, ou seja, seu comportamento deve depender apenas de seus argumentos.\n",
    "\n"
   ]
  },
  {
   "cell_type": "markdown",
   "metadata": {},
   "source": [
    "#### 4. **Quando a Função se Torna Muito Longa**"
   ]
  },
  {
   "cell_type": "markdown",
   "metadata": {},
   "source": [
    "Se uma função cresce demais e se torna muito longa, ela perde seu propósito de modularização e clareza. Funções devem ser pequenas e focadas em uma única responsabilidade. Funções gigantescas dificultam a leitura e a manutenção.\n",
    "\n",
    "**Exemplo:**\n",
    "Uma função que faz muitas coisas diferentes:\n",
    "\n",
    "```python\n",
    "def processar_dados():\n",
    "    # Carregar os dados\n",
    "    # Limpar os dados\n",
    "    # Analisar os dados\n",
    "    # Gerar relatórios\n",
    "    # Enviar relatórios por e-mail\n",
    "    pass\n",
    "```\n",
    "\n",
    "Neste caso, é melhor dividir a função em várias funções menores, cada uma com uma responsabilidade clara:\n",
    "\n",
    "```python\n",
    "def carregar_dados():\n",
    "    pass\n",
    "\n",
    "def limpar_dados():\n",
    "    pass\n",
    "\n",
    "def analisar_dados():\n",
    "    pass\n",
    "\n",
    "def gerar_relatorios():\n",
    "    pass\n",
    "\n",
    "def enviar_email():\n",
    "    pass\n",
    "```\n",
    "\n",
    "**Boas Práticas**:\n",
    "\n",
    "- **Responsabilidade Única (SRP)**: Cada função deve fazer apenas uma coisa. Se a função estiver fazendo várias tarefas, é hora de dividi-la em partes menores.\n",
    "- **Modularidade**: Dividir funções em pequenas peças ajuda na manutenção e facilita os testes unitários.\n",
    "\n"
   ]
  },
  {
   "cell_type": "markdown",
   "metadata": {},
   "source": [
    "#### 5. **Quando a Função Viola a Legibilidade**"
   ]
  },
  {
   "cell_type": "markdown",
   "metadata": {},
   "source": [
    "Se o uso de funções comprometer a **legibilidade** ou o **fluxo natural** do código, talvez não seja uma boa ideia usá-las. Funções que são excessivamente fragmentadas ou mal nomeadas podem atrapalhar a leitura do código.\n",
    "\n",
    "**Exemplo:**\n",
    "Fragmentar demais o código em funções pequenas, desnecessárias, pode tornar o código confuso:\n",
    "\n",
    "```python\n",
    "def abrir_arquivo():\n",
    "    pass\n",
    "\n",
    "def ler_linhas_arquivo():\n",
    "    pass\n",
    "\n",
    "def processar_linhas_arquivo():\n",
    "    pass\n",
    "\n",
    "def fechar_arquivo():\n",
    "    pass\n",
    "```\n",
    "\n",
    "Se o fluxo de leitura for muito simples, pode ser melhor manter o código direto, sem fragmentar tanto:\n",
    "\n",
    "```python\n",
    "with open('arquivo.txt', 'r') as f:\n",
    "    linhas = f.readlines()\n",
    "    # Processar as linhas diretamente aqui\n",
    "```\n",
    "\n",
    "**Boas Práticas**:\n",
    "- **Legibilidade**: Mantenha o equilíbrio entre modularidade e legibilidade. Divida o código em funções quando isso melhorar a compreensão, mas evite sobrecarregar o código com funções triviais ou excessivamente pequenas.\n",
    "- **Fluxo Natural**: Assegure-se de que o uso de funções segue um fluxo lógico que é fácil de acompanhar.\n"
   ]
  },
  {
   "cell_type": "markdown",
   "metadata": {},
   "source": []
  },
  {
   "cell_type": "markdown",
   "metadata": {},
   "source": [
    "#### 6. **Quando a Função Não Pode ser Testada Facilmente**"
   ]
  },
  {
   "cell_type": "markdown",
   "metadata": {},
   "source": [
    "Se uma função é difícil de testar ou validar, pode não ser a melhor escolha. Funções que dependem de muitas interações externas (como sistema de arquivos, banco de dados, etc.) sem uma abstração clara podem ser complicadas de testar em um ambiente controlado.\n",
    "\n",
    "**Exemplo:**\n",
    "Uma função que lê diretamente de um arquivo:\n",
    "\n",
    "```python\n",
    "def ler_dados():\n",
    "    with open('dados.txt', 'r') as f:\n",
    "        return f.read()\n",
    "```\n",
    "\n",
    "Isso torna a função dependente do arquivo local. Uma abordagem melhor seria passar o arquivo como parâmetro ou usar injeção de dependência para facilitar o teste:\n",
    "\n",
    "```python\n",
    "def ler_dados(arquivo):\n",
    "    with open(arquivo, 'r') as f:\n",
    "        return f.read()\n",
    "```\n",
    "\n",
    "**Boas Práticas**:\n",
    "- **Testabilidade**: Escreva funções que possam ser testadas isoladamente, sem depender de recursos externos. Isso facilita a criação de testes unitários eficazes.\n",
    "- **Injeção de Dependência**: Em vez de acessar diretamente recursos como arquivos ou bancos de dados, considere passá-los como parâmetros para facilitar o teste e melhorar a flexibilidade.\n"
   ]
  },
  {
   "cell_type": "markdown",
   "metadata": {},
   "source": [
    "## Sendo Assim:"
   ]
  },
  {
   "cell_type": "markdown",
   "metadata": {},
   "source": [
    "Funções em Python são extremamente úteis para modularizar e organizar o código, mas seu uso deve ser consciente. Evite criar funções para tarefas triviais ou fragmentar demais o código, o que pode prejudicar a legibilidade. Em situações de performance crítica, o uso excessivo de funções pode impactar o desempenho.\n",
    "\n",
    "Boas práticas incluem:\n",
    "\n",
    "- Manter funções curtas e focadas.\n",
    "- Nomear funções e variáveis de forma clara e descritiva.\n",
    "- Documentar usando docstrings.\n",
    "- Modularizar o código para facilitar testes e reutilização.\n",
    "- Aplicar o princípio DRY (Don't Repeat Yourself) para evitar duplicação de código.\n",
    "\n",
    "O uso correto de funções melhora a clareza, a legibilidade e a manutenibilidade do código."
   ]
  }
 ],
 "metadata": {
  "kernelspec": {
   "display_name": "Python 3",
   "language": "python",
   "name": "python3"
  },
  "language_info": {
   "codemirror_mode": {
    "name": "ipython",
    "version": 3
   },
   "file_extension": ".py",
   "mimetype": "text/x-python",
   "name": "python",
   "nbconvert_exporter": "python",
   "pygments_lexer": "ipython3",
   "version": "3.12.5"
  }
 },
 "nbformat": 4,
 "nbformat_minor": 2
}
