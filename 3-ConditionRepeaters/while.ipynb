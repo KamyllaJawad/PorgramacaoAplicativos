{
 "cells": [
  {
   "cell_type": "markdown",
   "metadata": {},
   "source": [
    "# Utilizando `while`"
   ]
  },
  {
   "cell_type": "markdown",
   "metadata": {},
   "source": [
    "O `while` é uma estrutura de controle em Python usada para repetir um bloco de código enquanto uma condição for verdadeira. Isso permite que o programa execute repetidamente um conjunto de instruções até que a condição especificada seja avaliada como falsa."
   ]
  },
  {
   "cell_type": "markdown",
   "metadata": {},
   "source": [
    "## Estrutura Básica do `while`"
   ]
  },
  {
   "cell_type": "markdown",
   "metadata": {},
   "source": [
    "A estrutura básica é:\n",
    "```python\n",
    "while condição:\n",
    "    # bloco de código a ser repetido\n",
    "```"
   ]
  },
  {
   "cell_type": "markdown",
   "metadata": {},
   "source": [
    "## Exemplos Práticos"
   ]
  },
  {
   "cell_type": "markdown",
   "metadata": {},
   "source": [
    "#### 1. Loop Básico com `while`\n",
    "\n",
    "   **Quando Usar:** Utilize `while` quando você precisa repetir uma ação indefinidamente até que uma condição seja atendida. \n",
    "\n",
    "   **Boas Práticas:**\n",
    "   - Certifique-se de que a condição eventualmente se torne falsa para evitar loops infinitos.\n",
    "   - Mantenha o bloco de código simples e direto para facilitar a leitura."
   ]
  },
  {
   "cell_type": "code",
   "execution_count": null,
   "metadata": {},
   "outputs": [],
   "source": [
    "   contador = 0\n",
    "   while contador < 5:\n",
    "       print(contador)\n",
    "       contador += 1"
   ]
  },
  {
   "cell_type": "markdown",
   "metadata": {},
   "source": [
    "#### 2. Processamento de Entrada do Usuário\n",
    "\n",
    "**Quando Utilizar:** Use `while` para continuar solicitando dados do usuário até que uma entrada válida seja recebida.\n",
    "\n",
    "**Boas Práticas:**\n",
    "- Garanta que o loop possa ser interrompido com uma entrada válida ou uma condição de saída.\n",
    "- Valide as entradas do usuário para evitar entradas incorretas ou inesperadas."
   ]
  },
  {
   "cell_type": "code",
   "execution_count": null,
   "metadata": {},
   "outputs": [],
   "source": [
    "entrada = ''\n",
    "while entrada != 'sair':\n",
    "    entrada = input(\"Digite algo (ou 'sair' para encerrar): \")\n",
    "    print(f\"Você digitou: {entrada}\")"
   ]
  },
  {
   "cell_type": "markdown",
   "metadata": {},
   "source": [
    "#### 3. Implementação de um Jogo Simples\n",
    "\n",
    "**Quando Utilizar:** Utilize o `while` para manter um jogo em execução até que uma condição de término seja alcançada.\n",
    "\n",
    "**Boas Práticas:**\n",
    "- Inclua uma condição clara para a saída do jogo.\n",
    "- Mantenha o código dentro do loop organizado e modular, dividindo em funções quando necessário."
   ]
  },
  {
   "cell_type": "code",
   "execution_count": null,
   "metadata": {},
   "outputs": [],
   "source": [
    "jogando = True\n",
    "while jogando:\n",
    "    comando = input(\"Digite 'parar' para encerrar o jogo: \")\n",
    "    if comando == 'parar':\n",
    "        jogando = False\n",
    "    else:\n",
    "        print(\"O jogo continua!\")"
   ]
  },
  {
   "cell_type": "markdown",
   "metadata": {},
   "source": [
    "#### 4. Espera por uma Condição Externa\n",
    "\n",
    "**Quando Utilizar:** Utilize o `while` para manter o programa em espera até que uma condição externa, como o recebimento de dados de uma API ou o término de uma operação assíncrona, seja atendida.\n",
    "\n",
    "**Boas Práticas:**\n",
    "- Inclua um limite de tempo ou contagem de tentativas para evitar esperar indefinidamente.\n",
    "- Atualize a condição externa adequadamente para permitir a saída do loop."
   ]
  },
  {
   "cell_type": "code",
   "execution_count": null,
   "metadata": {},
   "outputs": [],
   "source": [
    "import time\n",
    "\n",
    "condicao_externa = False\n",
    "tentativas = 0\n",
    "while not condicao_externa and tentativas < 5:\n",
    "    print(\"Esperando pela condição externa...\")\n",
    "    time.sleep(2)  # Simulando espera\n",
    "    tentativas += 1\n",
    "    # Aqui você verificaria a condição externa real"
   ]
  },
  {
   "cell_type": "markdown",
   "metadata": {},
   "source": [
    "#### 5. Processamento de Arquivo Linha por Linha\n",
    "\n",
    "**Quando Utilizar:** Utilize o `while` para ler e processar linhas de um arquivo até que o final do arquivo seja alcançado.\n",
    "\n",
    "**Boas Práticas:**\n",
    "- Verifique se o arquivo foi aberto corretamente antes de entrar no loop.\n",
    "- Certifique-se de fechar o arquivo após a leitura."
   ]
  },
  {
   "cell_type": "code",
   "execution_count": null,
   "metadata": {},
   "outputs": [],
   "source": [
    "import os\n",
    "\n",
    "file_path = 'arquivo.txt'\n",
    "\n",
    "if os.path.exists(file_path):\n",
    "    with open(file_path, 'r') as arquivo:\n",
    "        linha = arquivo.readline()\n",
    "        while linha:\n",
    "            print(linha.strip())\n",
    "            linha = arquivo.readline()\n",
    "else:\n",
    "    print(f\"File not found: {file_path}\")"
   ]
  },
  {
   "cell_type": "markdown",
   "metadata": {},
   "source": [
    "#### 6. Execução de Tarefas em Lote\n",
    "\n",
    "**Quando Utilizar:** Utilize o `while` para processar itens de uma fila ou lista de tarefas até que todas as tarefas sejam concluídas.\n",
    "\n",
    "**Boas Práticas:**\n",
    "- Mantenha a fila ou lista de tarefas organizada para evitar problemas de execução.\n",
    "- Verifique se o loop lida corretamente com a lista vazia."
   ]
  },
  {
   "cell_type": "code",
   "execution_count": null,
   "metadata": {},
   "outputs": [],
   "source": [
    "tarefas = ['tarefa1', 'tarefa2', 'tarefa3', 'tarefa4', 'tarefa5']\n",
    "while tarefas:\n",
    "    tarefa_atual = tarefas.pop(0)\n",
    "    print(f\"Executando: {tarefa_atual}\")\n",
    "    print(f\"---------------------------------\")\n",
    "    print(f\"Faltam {len(tarefas)} tarefas a serem executadas\")\n",
    "    print(f\"---------------------------------\")\n",
    "print(f\"\\nAtenção tarefa atual é: {tarefa_atual}\")"
   ]
  },
  {
   "cell_type": "markdown",
   "metadata": {},
   "source": [
    "#### 7. Loop Infinito com Condição de Saída Interna\n",
    "\n",
    "**Quando Utilizar:** Utilize o `while` para criar um loop que deve continuar até que uma condição de saída específica seja encontrada dentro do próprio loop.\n",
    "\n",
    "**Boas Práticas:**\n",
    "- Certifique-se de que a condição de saída é alcançável.\n",
    "- Evite múltiplos pontos de saída para manter a clareza do código."
   ]
  },
  {
   "cell_type": "code",
   "execution_count": null,
   "metadata": {},
   "outputs": [],
   "source": [
    "while True:\n",
    "    comando = input(\"Digite 'sair' para encerrar: \")\n",
    "    if comando == 'sair':\n",
    "        break\n",
    "    print(f\"Você digitou: {comando}\")"
   ]
  },
  {
   "cell_type": "markdown",
   "metadata": {},
   "source": [
    "#### 8. Animação ou Atualização Contínua de Interface\n",
    "\n",
    "**Quando Utilizar:** Utilize o `while` para atualizar continuamente uma interface gráfica ou animação até que o usuário feche o programa.\n",
    "\n",
    "**Boas Práticas:**\n",
    "- Use um tempo de espera (`sleep`) para controlar a taxa de atualização.\n",
    "- Certifique-se de que o loop possa ser interrompido pela ação do usuário."
   ]
  },
  {
   "cell_type": "code",
   "execution_count": null,
   "metadata": {},
   "outputs": [],
   "source": [
    "import time\n",
    "\n",
    "rodando = True\n",
    "while rodando:\n",
    "    # Atualizar a interface ou animação\n",
    "    print(\"Animação em execução...\")\n",
    "    time.sleep(0.1)  # Controla a velocidade da animação\n",
    "    # Condição para sair do loop, por exemplo, um evento de fechamento\n",
    "    "
   ]
  },
  {
   "cell_type": "markdown",
   "metadata": {},
   "source": [
    "#### 9. Cálculo de Fatorial de um Número\n",
    "\n",
    "**Quando Utilizar:** Utilize o `while` para calcular o fatorial de um número, multiplicando progressivamente os números até 1.\n",
    "\n",
    "**Boas Práticas:**\n",
    "- Verifique se a condição inicial é válida, como um número inteiro positivo.\n",
    "- Implemente uma verificação para números negativos ou zero, se necessário."
   ]
  },
  {
   "cell_type": "code",
   "execution_count": null,
   "metadata": {},
   "outputs": [],
   "source": [
    "numero = 5\n",
    "fatorial = 1\n",
    "while numero > 1:\n",
    "    fatorial *= numero\n",
    "    numero -= 1\n",
    "print(f\"O fatorial é: {fatorial}\")"
   ]
  },
  {
   "cell_type": "markdown",
   "metadata": {},
   "source": [
    "#### 10. Loop `while` com Controle por Evento\n",
    "\n",
    "**Quando Utilizar:** Utilize o `while` para esperar por um evento específico, como um botão ser pressionado, para continuar a execução do programa.\n",
    "\n",
    "**Boas Práticas:**\n",
    "- Garanta que o loop não consuma excessivamente recursos enquanto espera.\n",
    "- Implemente uma maneira segura de encerrar o loop, como uma flag de controle."
   ]
  },
  {
   "cell_type": "code",
   "execution_count": 3,
   "metadata": {},
   "outputs": [],
   "source": [
    "evento_ocorrido = False\n",
    "while not evento_ocorrido:\n",
    "    # Verifica se o evento ocorreu\n",
    "    comando = input(\"Pressione 'OK' para continuar: \")\n",
    "    if comando == 'OK':\n",
    "        evento_ocorrido = True"
   ]
  },
  {
   "cell_type": "markdown",
   "metadata": {},
   "source": [
    "## Quando Evitar `while` e Usar Alternativas"
   ]
  },
  {
   "cell_type": "markdown",
   "metadata": {},
   "source": [
    "#### 1. **Iteração sobre uma Lista com Tamanho Conhecido**\n",
    "\n",
    "Se você sabe exatamente quantas vezes o loop deve executar (por exemplo, iterando sobre os elementos de uma lista), usar `while` pode ser mais propenso a erros, especialmente se você precisar manipular um índice manualmente.\n",
    "\n",
    "Use o loop `for`, que é mais seguro e legível para esse tipo de operação.\n",
    "\n",
    "**Exemplo:**"
   ]
  },
  {
   "cell_type": "code",
   "execution_count": null,
   "metadata": {},
   "outputs": [],
   "source": [
    "# Não recomendado com while\n",
    "i = 0\n",
    "lista = [1, 2, 3, 4, 5]\n",
    "while i < len(lista):\n",
    "    print(lista[i])\n",
    "    i += 1\n",
    "\n",
    "# Alternativa recomendada com for\n",
    "for item in lista:\n",
    "    print(item)"
   ]
  },
  {
   "cell_type": "markdown",
   "metadata": {},
   "source": [
    "#### 2. **Repetição de uma Tarefa um Número Específico de Vezes**\n",
    "\n",
    "Quando a quantidade de iterações é conhecida, usar `while` para controlar um contador pode ser menos claro e mais sujeito a erros, como esquecer de incrementar o contador.\n",
    "\n",
    "Use o loop `for`, que é naturalmente projetado para este tipo de tarefa.\n",
    "\n",
    "**Exemplo:**"
   ]
  },
  {
   "cell_type": "code",
   "execution_count": null,
   "metadata": {},
   "outputs": [],
   "source": [
    "# Não recomendado com while\n",
    "contador = 0\n",
    "while contador < 5:\n",
    "    print(\"Tarefa repetida\")\n",
    "    contador += 1\n",
    "\n",
    "# Alternativa recomendada com for\n",
    "for _ in range(5):\n",
    "    print(\"Tarefa repetida\")"
   ]
  },
  {
   "cell_type": "markdown",
   "metadata": {},
   "source": [
    "#### 3. **Checagem de Condição em uma Estrutura de Dados**\n",
    "\n",
    "Utilizar `while` para checar se um item existe em uma lista ou dicionário pode ser menos eficiente e mais complicado do que utilizar as funções próprias dessas estruturas.\n",
    "\n",
    "Use as operações `in` ou métodos como `.get()` para checar a condição de forma mais direta e clara.\n",
    "\n",
    "**Exemplo:**"
   ]
  },
  {
   "cell_type": "code",
   "execution_count": null,
   "metadata": {},
   "outputs": [],
   "source": [
    "# Não recomendado com while\n",
    "elementos = [1, 2, 3, 4, 5]\n",
    "encontrado = False\n",
    "i = 0\n",
    "while i < len(elementos):\n",
    "    if elementos[i] == 3:\n",
    "        encontrado = True\n",
    "        break\n",
    "    i += 1\n",
    "\n",
    "# Alternativa recomendada com in\n",
    "if 3 in elementos:\n",
    "    encontrado = True"
   ]
  },
  {
   "cell_type": "markdown",
   "metadata": {},
   "source": [
    "#### 4. **Manipulação de String ou Lista até um Valor Fixo**\n",
    "\n",
    "Usar `while` para manipular uma string ou lista até um valor específico pode ser confuso e propenso a erros, como indexação incorreta.\n",
    "\n",
    "Utilize métodos específicos de strings ou listas, ou um loop `for` para manipulação direta.\n",
    "\n",
    "**Exemplo:**"
   ]
  },
  {
   "cell_type": "code",
   "execution_count": null,
   "metadata": {},
   "outputs": [],
   "source": [
    "# Não recomendado com while\n",
    "s = \"Python\"\n",
    "i = 0\n",
    "while i < len(s):\n",
    "    print(s[i].upper())\n",
    "    i += 1\n",
    "\n",
    "# Alternativa recomendada com for\n",
    "for char in s:\n",
    "    print(char.upper())"
   ]
  },
  {
   "cell_type": "markdown",
   "metadata": {},
   "source": [
    "#### 5. **Processamento de Dados que Pode Ser Feito com Funções Integradas**\n",
    "\n",
    "Quando há funções integradas em Python que já realizam a operação desejada de forma eficiente e clara, usar `while` para reinventar essas funções pode resultar em código desnecessariamente complicado.\n",
    "\n",
    "Utilize funções integradas, como `sum()`, `map()`, `filter()` ou compreensão de listas.\n",
    "\n",
    "**Exemplo:**"
   ]
  },
  {
   "cell_type": "code",
   "execution_count": null,
   "metadata": {},
   "outputs": [],
   "source": [
    "# Não recomendado com while\n",
    "numeros = [1, 2, 3, 4, 5]\n",
    "soma = 0\n",
    "i = 0\n",
    "while i < len(numeros):\n",
    "    soma += numeros[i]\n",
    "    i += 1\n",
    "\n",
    "# Alternativa recomendada com sum\n",
    "soma = sum(numeros)"
   ]
  },
  {
   "cell_type": "markdown",
   "metadata": {},
   "source": [
    "#### 6. **Usar Recursão em vez de `while`**\n",
    "\n",
    "Use recursão em funções quando a repetição pode ser mais naturalmente expressa como uma chamada recursiva, especialmente em problemas que podem ser divididos em subproblemas menores.\n",
    "\n",
    "**Exemplo:** "
   ]
  },
  {
   "cell_type": "code",
   "execution_count": null,
   "metadata": {},
   "outputs": [],
   "source": [
    "def contar_ate(numero):\n",
    "    if numero > 0:\n",
    "        contar_ate(numero - 1)\n",
    "    print(numero)\n",
    "\n",
    "contar_ate(5)"
   ]
  },
  {
   "cell_type": "markdown",
   "metadata": {},
   "source": [
    "## Sendo Assim:"
   ]
  },
  {
   "cell_type": "markdown",
   "metadata": {},
   "source": [
    "- **Evitar Loops Infinitos:**\n",
    "\n",
    "Sempre verifique se a condição de saída será atendida em algum momento para evitar loops que nunca terminam.\n",
    "\n",
    "- **Clareza:**\n",
    "\n",
    "Use estruturas de repetição que sejam intuitivas e claras para a leitura e entendimento.\n",
    "\n",
    "- **Controle da Condição:**\n",
    "\n",
    "Mantenha a condição de controle simples e direta, evitando variáveis de controle complexas.\n",
    "\n",
    "- **Evitar Uso Excessivo de `break`:**\n",
    "\n",
    "Utilize `break` com cautela, e somente quando realmente necessário para interromper a execução do loop."
   ]
  }
 ],
 "metadata": {
  "kernelspec": {
   "display_name": "Python 3",
   "language": "python",
   "name": "python3"
  },
  "language_info": {
   "codemirror_mode": {
    "name": "ipython",
    "version": 3
   },
   "file_extension": ".py",
   "mimetype": "text/x-python",
   "name": "python",
   "nbconvert_exporter": "python",
   "pygments_lexer": "ipython3",
   "version": "3.12.5"
  }
 },
 "nbformat": 4,
 "nbformat_minor": 2
}
