{
 "cells": [
  {
   "cell_type": "markdown",
   "metadata": {},
   "source": [
    "# Utilizando `if` e `else`\n",
    "\n",
    "O `if` e `else` são estruturas condicionais em Python usadas para executar diferentes blocos de código com base em condições específicas. Elas permitem que o programa tome decisões durante a execução, tornando o código mais dinâmico e adaptável a diferentes situações."
   ]
  },
  {
   "cell_type": "markdown",
   "metadata": {},
   "source": [
    "## Estrutura Básica do `if` e `else`\n",
    "\n",
    "A estrutura básica é:"
   ]
  },
  {
   "cell_type": "code",
   "execution_count": null,
   "metadata": {},
   "outputs": [],
   "source": [
    "\n",
    "if condição:\n",
    "    # bloco de código executado se a condição for verdadeira\n",
    "elif outra_condição:\n",
    "    # bloco de código executado se a outra_condição for verdadeira\n",
    "else:\n",
    "    # bloco de código executado se nenhuma das condições anteriores for verdadeira"
   ]
  },
  {
   "cell_type": "markdown",
   "metadata": {},
   "source": [
    "## Exemplos Práticos"
   ]
  },
  {
   "cell_type": "markdown",
   "metadata": {},
   "source": [
    "#### 1. **Verificação de Condição Simples (if)**\n",
    "\n",
    "**Quando Usar:** Use `if` quando você precisa verificar uma única condição para determinar se um bloco de código deve ser executado. Por exemplo, verificar se uma pessoa é maior de idade.\n",
    "\n",
    "**Boas Práticas:**\n",
    "- Mantenha a condição clara e fácil de entender.\n",
    "- Use `if` quando não for necessário tratar outras possibilidades (use `else` ou `elif` para isso).\n",
    "\n"
   ]
  },
  {
   "cell_type": "code",
   "execution_count": null,
   "metadata": {},
   "outputs": [],
   "source": [
    "idade = 18\n",
    "if idade >= 18:\n",
    "    print(\"Você é maior de idade.\")\n"
   ]
  },
  {
   "cell_type": "markdown",
   "metadata": {},
   "source": [
    "#### 2. **Usando `if-else` para escolher entre dois caminhos:**\n",
    "\n",
    "**Quando Usar:** Use `if-else` quando você tem uma condição binária, ou seja, quando existem duas alternativas mutuamente exclusivas. Por exemplo, verificar se um usuário é maior de idade ou não.\n",
    "\n",
    "**Boas Práticas:**\n",
    "- Use `else` para tratar o caso complementar ao `if`.\n",
    "- Certifique-se de que as duas condições sejam mutuamente exclusivas.\n",
    "- Mantenha as condições simples e diretas.\n",
    "- Use `else` apenas se houver um caso claro que cobre todas as outras possibilidades. Se o `else` for desnecessário, considere omiti-lo.\n",
    "     \n"
   ]
  },
  {
   "cell_type": "code",
   "execution_count": null,
   "metadata": {},
   "outputs": [],
   "source": [
    "idade = 16\n",
    "if idade >= 18:\n",
    "    print(\"Você pode votar.\")\n",
    "else:\n",
    "    print(\"Você ainda não pode votar.\")"
   ]
  },
  {
   "cell_type": "code",
   "execution_count": null,
   "metadata": {},
   "outputs": [],
   "source": [
    "idade = 20\n",
    "if idade >= 18:\n",
    "    print(\"Você é maior de idade.\")\n",
    "else:\n",
    "    print(\"Você é menor de idade.\")"
   ]
  },
  {
   "cell_type": "markdown",
   "metadata": {},
   "source": [
    "\n",
    "#### 3. **Usando `if-elif-else` para múltiplas condições:**\n",
    "\n",
    "**Quando Usar:** Use `if-elif-else` para testar múltiplas condições em sequência. Por exemplo, verificar o desempenho de um aluno com base em sua nota.\n",
    "\n",
    "**Boas Práticas:**\n",
    "- Use `elif` para adicionar quantas condições forem necessárias.\n",
    "- Certifique-se de que todas as condições sejam mutuamente exclusivas e que cobrem todas as possibilidades.\n"
   ]
  },
  {
   "cell_type": "code",
   "execution_count": null,
   "metadata": {},
   "outputs": [],
   "source": [
    "nota = 85\n",
    "if nota >= 90:\n",
    "    print(\"Aprovado com distinção!\")\n",
    "elif nota >= 70:\n",
    "    print(\"Aprovado.\")\n",
    "else:\n",
    "    print(\"Reprovado.\")\n"
   ]
  },
  {
   "cell_type": "code",
   "execution_count": null,
   "metadata": {},
   "outputs": [],
   "source": [
    "nota = 6\n",
    "\n",
    "if nota >= 90:\n",
    "    print(\"Nota A\")\n",
    "elif 80 <= nota < 90:\n",
    "    print(\"Nota B\")\n",
    "elif 70 <= nota < 80:\n",
    "    print(\"Nota C\")\n",
    "elif 60 <= nota < 70:\n",
    "    print(\"Nota D\")\n",
    "else:\n",
    "    print(\"Nota F\")"
   ]
  },
  {
   "cell_type": "code",
   "execution_count": null,
   "metadata": {},
   "outputs": [],
   "source": [
    "hora = 15\n",
    "\n",
    "if 6 <= hora < 12:\n",
    "    print(\"Bom dia!\")\n",
    "elif 12 <= hora < 18:\n",
    "    print(\"Boa tarde!\")\n",
    "elif 18 <= hora < 22:\n",
    "    print(\"Boa noite!\")\n",
    "else:\n",
    "    print(\"Boa madrugada!\")"
   ]
  },
  {
   "cell_type": "markdown",
   "metadata": {},
   "source": [
    "#### 4. **Verificação de múltiplas condições em um `if`:**\n",
    "\n",
    "**Quando Usar:** Use `if` com múltiplas condições quando você precisar verificar que mais de uma condição é verdadeira ao mesmo tempo. Por exemplo, verificar se uma pessoa tem idade e habilitação para dirigir.\n",
    "\n",
    "**Boas Práticas:**\n",
    "- Use o operador lógico adequado (`and`, `or`) para combinar condições.\n",
    "- Mantenha a lógica simples e clara."
   ]
  },
  {
   "cell_type": "code",
   "execution_count": null,
   "metadata": {},
   "outputs": [],
   "source": [
    "idade = 20\n",
    "tem_habilitacao = True\n",
    "\n",
    "if idade >= 18 and tem_habilitacao:\n",
    "    print(\"Você pode dirigir.\")\n"
   ]
  },
  {
   "cell_type": "markdown",
   "metadata": {},
   "source": [
    "#### 5. **Condicional com Operadores Lógicos (`and`, `or`, `not`)**\n",
    "**Quando Usar:** Use operadores lógicos quando precisar combinar múltiplas condições dentro de uma única expressão `if`. Por exemplo, verificar se um usuário tem idade suficiente e possui uma carteira de motorista.\n",
    "\n",
    "**Boas Práticas:**\n",
    "- Use parênteses para clareza, especialmente quando combinar múltiplos operadores.\n",
    "- Evite encadear muitos operadores lógicos em uma única linha, pois isso pode prejudicar a legibilidade."
   ]
  },
  {
   "cell_type": "code",
   "execution_count": null,
   "metadata": {},
   "outputs": [],
   "source": [
    "idade = 20\n",
    "tem_carteira = True\n",
    "\n",
    "if idade >= 18 and tem_carteira:\n",
    "    print(\"Você pode dirigir.\")\n",
    "else:\n",
    "    print(\"Você não pode dirigir.\")"
   ]
  },
  {
   "cell_type": "markdown",
   "metadata": {},
   "source": [
    "#### 6. **Comparação de Strings**\n",
    "**Quando Usar:** Útil quando você precisa comparar strings, como senhas, nomes de usuário, ou tipos de comandos.\n",
    "\n",
    "**Boas Práticas:**\n",
    "- Certifique-se de que as comparações de strings sejam feitas de maneira consistente (e.g., considerando capitalização usando `.lower()` ou `.upper()`)."
   ]
  },
  {
   "cell_type": "code",
   "execution_count": null,
   "metadata": {},
   "outputs": [],
   "source": [
    "senha = \"python123\"\n",
    "\n",
    "if senha == \"python123\":\n",
    "    print(\"Acesso permitido.\")\n",
    "else:\n",
    "    print(\"Acesso negado.\")"
   ]
  },
  {
   "cell_type": "markdown",
   "metadata": {},
   "source": [
    "#### 7. **Verificação de Membros com `in`**\n",
    "**Quando Usar:** Use `in` para verificar se um valor pertence a uma lista, tupla, conjunto, ou dicionário.\n",
    "\n",
    "**Boas Práticas:**\n",
    "- Útil para verificar a presença de um item em coleções, mantendo o código limpo e fácil de ler."
   ]
  },
  {
   "cell_type": "code",
   "execution_count": null,
   "metadata": {},
   "outputs": [],
   "source": [
    "fruta = \"maçã\"\n",
    "\n",
    "if fruta in [\"maçã\", \"banana\", \"laranja\"]:\n",
    "    print(\"A fruta está disponível.\")\n",
    "else:\n",
    "    print(\"A fruta não está disponível.\")"
   ]
  },
  {
   "cell_type": "markdown",
   "metadata": {},
   "source": [
    "#### 8. **Negação com `not`**\n",
    "\n",
    "**Quando Usar:** Use `not` quando quiser testar a condição oposta de uma expressão booleana.\n",
    "\n",
    "**Boas Práticas:**\n",
    "- Use `not` para tornar o código mais intuitivo ao expressar claramente uma condição negativa."
   ]
  },
  {
   "cell_type": "code",
   "execution_count": null,
   "metadata": {},
   "outputs": [],
   "source": [
    "chovendo = False\n",
    "\n",
    "if not chovendo:\n",
    "    print(\"Não está chovendo, você pode sair sem guarda-chuva.\")\n",
    "else:\n",
    "    print(\"Está chovendo, leve um guarda-chuva.\")"
   ]
  },
  {
   "cell_type": "markdown",
   "metadata": {},
   "source": [
    "#### 9. **Comparação com `is` e `is not`**\n",
    "**Quando Usar:** Use `is` para verificar se duas referências apontam para o mesmo objeto (especialmente útil para `None`). Use `is not` para verificar o contrário.\n",
    "\n",
    "**Boas Práticas:**\n",
    "- Use `is` e `is not` ao trabalhar com `None` ou objetos únicos para garantir comparações de identidade e não de igualdade."
   ]
  },
  {
   "cell_type": "code",
   "execution_count": null,
   "metadata": {},
   "outputs": [],
   "source": [
    "a = None\n",
    "\n",
    "if a is None:\n",
    "    print(\"A variável 'a' não tem valor.\")\n",
    "else:\n",
    "    print(\"A variável 'a' tem um valor.\")"
   ]
  },
  {
   "cell_type": "markdown",
   "metadata": {},
   "source": [
    "#### 10. **Comparação de Conjuntos**\n",
    "**Quando Usar:** Use operações de conjuntos (como `&`, `|`, etc.) para comparar elementos entre dois conjuntos.\n",
    "\n",
    "**Boas Práticas:**\n",
    "- As operações de conjuntos são úteis para comparar coleções, especialmente quando a ordem dos elementos não importa."
   ]
  },
  {
   "cell_type": "code",
   "execution_count": null,
   "metadata": {},
   "outputs": [],
   "source": [
    "conjunto_a = {1, 2, 3}\n",
    "conjunto_b = {1, 0, 7}\n",
    "\n",
    "if conjunto_a & conjunto_b:\n",
    "    print(\"Os conjuntos têm elementos em comum.\")\n",
    "else:\n",
    "    print(\"Os conjuntos não têm elementos em comum.\")"
   ]
  },
  {
   "cell_type": "markdown",
   "metadata": {},
   "source": [
    "## Formas Alternativas de Usar `if` e `else`"
   ]
  },
  {
   "cell_type": "markdown",
   "metadata": {},
   "source": [
    "\n",
    "#### 1. **Operador Ternário (`if` em uma linha)**\n",
    "\n",
    "**Quando Usar:** Use o operador ternário quando precisar de uma condição simples e deseja atribuir um valor com base nessa condição em uma única linha.\n",
    "\n",
    "**Boas Práticas:**\n",
    "- Use o operador ternário para condições simples; evite usá-lo para lógica complexa que comprometa a legibilidade."
   ]
  },
  {
   "cell_type": "code",
   "execution_count": null,
   "metadata": {},
   "outputs": [],
   "source": [
    "idade = 20\n",
    "status = \"maior de idade\" if idade >= 18 else \"menor de idade\"\n",
    "print(status)"
   ]
  },
  {
   "cell_type": "markdown",
   "metadata": {},
   "source": [
    "#### 2. **`if` em Compreensões de Lista:**\n",
    "\n",
    "**Quando Usar:** Use `if` em uma compreensão de lista quando você precisa filtrar ou transformar uma lista de forma concisa. Por exemplo, criar uma nova lista contendo apenas os números pares de uma lista original.\n",
    "\n",
    "**Boas Práticas:**\n",
    "- Utilize a compreensão de lista para tornar o código mais compacto e legível.\n",
    "- Certifique-se de que a condição `if` seja simples para manter a clareza do código.\n",
    "- Evite complexidade excessiva dentro da compreensão de lista para não comprometer a legibilidade."
   ]
  },
  {
   "cell_type": "code",
   "execution_count": null,
   "metadata": {},
   "outputs": [],
   "source": [
    "\n",
    "numeros = [1, 2, 3, 4, 5]\n",
    "pares = [x for x in numeros if x % 2 == 0]\n",
    "print(pares)"
   ]
  },
  {
   "cell_type": "markdown",
   "metadata": {},
   "source": [
    "## Quando **NÃO** utilizar o `if-else`"
   ]
  },
  {
   "cell_type": "markdown",
   "metadata": {},
   "source": [
    "#### 1. **Quando uma Estrutura de Dados Pode Substituir `if-else`:**\n",
    "\n",
    "**Exemplo:** Se você está verificando várias condições que podem ser mapeadas diretamente para ações, é mais eficiente usar um dicionário para mapeamento de funções. Isso evita uma série de `if-else` aninhados e torna o código mais conciso.\n"
   ]
  },
  {
   "cell_type": "code",
   "execution_count": null,
   "metadata": {},
   "outputs": [],
   "source": [
    "def adicionar():\n",
    "    return \"Adicionando\"\n",
    "\n",
    "def remover():\n",
    "    return \"Removendo\"\n",
    "\n",
    "operacoes = {\n",
    "    \"adicionar\": adicionar,\n",
    "    \"remover\": remover\n",
    "}\n",
    "\n",
    "acao = \"adicionar\"\n",
    "resultado = operacoes[acao]()\n",
    "print(resultado)  # Saída: \"Adicionando\""
   ]
  },
  {
   "cell_type": "markdown",
   "metadata": {},
   "source": [
    "#### 2. **Quando Você Pode Usar `try-except` para Capturar Exceções:**\n",
    "\n",
    "**Exemplo:** Em vez de usar `if-else` para verificar a validade de uma operação (como verificar se uma chave existe em um dicionário), é melhor usar `try-except` para capturar a exceção. Isso simplifica o código e evita verificações desnecessárias.\n"
   ]
  },
  {
   "cell_type": "code",
   "execution_count": null,
   "metadata": {},
   "outputs": [],
   "source": [
    "dados = {\"nome\": \"Ana\", \"idade\": 28}\n",
    "\n",
    "try:\n",
    "    print(dados[\"endereco\"])\n",
    "except KeyError:\n",
    "    print(\"Endereço não encontrado\")"
   ]
  },
  {
   "cell_type": "markdown",
   "metadata": {},
   "source": [
    "\n",
    "#### 3. **Quando Você Pode Usar Compreensões de Lista:**\n",
    "\n",
    "**Exemplo:** Se a intenção é filtrar ou transformar uma lista com base em uma condição, use uma compreensão de lista em vez de `if-else`. Isso torna o código mais compacto e legível.\n"
   ]
  },
  {
   "cell_type": "code",
   "execution_count": null,
   "metadata": {},
   "outputs": [],
   "source": [
    "numeros = [1, 2, 3, 4, 5]\n",
    "pares = [x for x in numeros if x % 2 == 0]\n",
    "print(pares)  # Saída: [2, 4]\n"
   ]
  },
  {
   "cell_type": "markdown",
   "metadata": {},
   "source": [
    "\n",
    "## Sendo Assim:"
   ]
  },
  {
   "cell_type": "markdown",
   "metadata": {},
   "source": [
    "1. **Clareza e Legibilidade:**\n",
    "   - Priorize a clareza e a legibilidade das condições. Use condições simples e significativas.\n",
    "\n",
    "2. **Simplificação:**\n",
    "   - Mantenha as condições simples. Divida condições complexas ou utilize funções auxiliares.\n",
    "\n",
    "3. **Controle de Fluxo:**\n",
    "   - Use `if-else` para decisões simples.\n",
    "   - Prefira `elif` a múltiplos `if` para evitar verificações desnecessárias e melhorar a eficiência.\n",
    "\n",
    "4. **Cobertura Completa:**\n",
    "   - Garanta que todas as condições sejam cobertas adequadamente em estruturas condicionais.\n",
    "\n",
    "5. **Evite Duplicação de Código:**\n",
    "   - Refatore blocos de código repetidos em funções para evitar duplicação.\n",
    "\n",
    "6. **Alternativas ao `if-else`:**\n",
    "   - Considere usar dicionários de funções, `try-except`, ou compreensões de lista para melhorar a eficiência e clareza, quando apropriado."
   ]
  }
 ],
 "metadata": {
  "kernelspec": {
   "display_name": "Python 3",
   "language": "python",
   "name": "python3"
  },
  "language_info": {
   "codemirror_mode": {
    "name": "ipython",
    "version": 3
   },
   "file_extension": ".py",
   "mimetype": "text/x-python",
   "name": "python",
   "nbconvert_exporter": "python",
   "pygments_lexer": "ipython3",
   "version": "3.12.5"
  }
 },
 "nbformat": 4,
 "nbformat_minor": 2
}
