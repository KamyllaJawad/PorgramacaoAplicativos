{
 "cells": [
  {
   "cell_type": "markdown",
   "metadata": {},
   "source": [
    "# **Utilizando `try-except-finally` (Mecanismo de Tratamento de Exceções)**"
   ]
  },
  {
   "cell_type": "markdown",
   "metadata": {},
   "source": [
    "`try-except` é usado para lidar com exceções que podem ocorrer durante a execução de um bloco de código. Ele permite que o programa continue rodando mesmo que uma operação dê errado."
   ]
  },
  {
   "cell_type": "markdown",
   "metadata": {},
   "source": [
    "## Estrutura Básica"
   ]
  },
  {
   "cell_type": "markdown",
   "metadata": {},
   "source": [
    "- **`try-except`:** Usado para capturar e lidar com exceções.\n",
    "- **`try-except-finally`:** Adiciona uma cláusula `finally`, que sempre é executada, independentemente de uma exceção ter ocorrido ou não.\n"
   ]
  },
  {
   "cell_type": "code",
   "execution_count": null,
   "metadata": {},
   "outputs": [],
   "source": [
    "try:\n",
    "    # Código que pode gerar uma exceção\n",
    "except TipoDeExcecao as e:\n",
    "   # Código que é executado se uma exceção do tipo especificado ocorrer\n",
    "finally:\n",
    "    # Código que sempre será executado, independentemente de uma exceção ocorrer ou não"
   ]
  },
  {
   "cell_type": "markdown",
   "metadata": {},
   "source": [
    "## Exemplos Práticos"
   ]
  },
  {
   "cell_type": "markdown",
   "metadata": {},
   "source": [
    "#### 1. **Tratamento de Exceção de Conversão de Tipo**"
   ]
  },
  {
   "cell_type": "markdown",
   "metadata": {},
   "source": [
    "**Explicação:** Se o usuário digitar algo que não pode ser convertido em um número inteiro, uma `ValueError` será levantada e tratada, evitando que o programa falhe."
   ]
  },
  {
   "cell_type": "code",
   "execution_count": 4,
   "metadata": {},
   "outputs": [
    {
     "name": "stdout",
     "output_type": "stream",
     "text": [
      "O dobro de 2 é 4.\n"
     ]
    }
   ],
   "source": [
    "try:\n",
    "    numero = int(input(\"Digite um número: \"))\n",
    "    print(f\"O dobro de {numero} é {numero * 2}.\")\n",
    "except ValueError:\n",
    "    print(\"Erro: Isso não é um número válido!\")"
   ]
  },
  {
   "cell_type": "markdown",
   "metadata": {},
   "source": [
    "**Quando usar:** Quando você estiver lidando com conversões de tipos, como de strings para inteiros. O uso de `try-except` garante que o programa não quebre se a conversão falhar.\n",
    "\n",
    "**Boa prática:** Sempre tratar exceções específicas como `ValueError` para evitar capturar exceções desnecessárias."
   ]
  },
  {
   "cell_type": "markdown",
   "metadata": {},
   "source": [
    "#### 2. **Divisão por Zero**"
   ]
  },
  {
   "cell_type": "markdown",
   "metadata": {},
   "source": [
    "**Explicação:** Tentativas de dividir por zero em Python geram uma `ZeroDivisionError`. Esse código captura e trata a exceção."
   ]
  },
  {
   "cell_type": "code",
   "execution_count": 8,
   "metadata": {},
   "outputs": [
    {
     "name": "stdout",
     "output_type": "stream",
     "text": [
      "Erro: Divisão por zero não é permitida!\n"
     ]
    }
   ],
   "source": [
    "try:\n",
    "    resultado = 10 / 0\n",
    "except ZeroDivisionError:\n",
    "    print(\"Erro: Divisão por zero não é permitida!\")"
   ]
  },
  {
   "cell_type": "markdown",
   "metadata": {},
   "source": [
    "**Quando usar:** Ao realizar operações matemáticas que podem resultar em divisão por zero.\n",
    "\n",
    "**Boa prática:** Validar o denominador antes da divisão ou usar `try-except` para capturar esse erro."
   ]
  },
  {
   "cell_type": "markdown",
   "metadata": {},
   "source": [
    "#### 3. **Acesso a um Índice Fora do Intervalo em uma Lista**"
   ]
  },
  {
   "cell_type": "markdown",
   "metadata": {},
   "source": [
    "**Explicação:** O acesso a um índice inexistente em uma lista levanta uma `IndexError`, que é tratada aqui."
   ]
  },
  {
   "cell_type": "code",
   "execution_count": null,
   "metadata": {},
   "outputs": [],
   "source": [
    "lista = [1, 2, 3]\n",
    "try:\n",
    "    print(lista[5])\n",
    "except IndexError:\n",
    "    print(\"Erro: Índice fora do intervalo!\")"
   ]
  },
  {
   "cell_type": "markdown",
   "metadata": {},
   "source": [
    "**Quando usar:** Ao acessar índices em uma lista onde o tamanho não é conhecido ou pode variar.\n",
    "\n",
    "**Boa prática:** Usar a função `len()` para validar o índice antes de acessá-lo ou capturar o erro com `try-except`.\n"
   ]
  },
  {
   "cell_type": "markdown",
   "metadata": {},
   "source": [
    "#### 4. **Leitura de Arquivo Inexistente**"
   ]
  },
  {
   "cell_type": "markdown",
   "metadata": {},
   "source": [
    "**Explicação:** Se o arquivo não existir, uma `FileNotFoundError` é levantada e tratada para evitar que o programa falhe."
   ]
  },
  {
   "cell_type": "code",
   "execution_count": null,
   "metadata": {},
   "outputs": [],
   "source": [
    "try:\n",
    "    with open('arquivo_inexistente.txt', 'r') as arquivo:\n",
    "        conteudo = arquivo.read()\n",
    "except FileNotFoundError:\n",
    "    print(\"Erro: Arquivo não encontrado!\")"
   ]
  },
  {
   "cell_type": "markdown",
   "metadata": {},
   "source": [
    "**Quando usar:** Sempre que trabalhar com leitura de arquivos, pois o arquivo pode não existir.\n",
    "\n",
    "**Boa prática:** Verificar se o arquivo existe antes de tentar abri-lo ou capturar a exceção com `try-except`."
   ]
  },
  {
   "cell_type": "markdown",
   "metadata": {},
   "source": [
    "#### 5. **Tentativa de Acessar uma Chave Inexistente em um Dicionário**"
   ]
  },
  {
   "cell_type": "markdown",
   "metadata": {},
   "source": [
    "**Explicação:** A tentativa de acessar uma chave inexistente em um dicionário gera uma `KeyError`."
   ]
  },
  {
   "cell_type": "code",
   "execution_count": null,
   "metadata": {},
   "outputs": [],
   "source": [
    "dados = {'nome': 'João', 'idade': 30}\n",
    "try:\n",
    "    print(dados['endereco'])\n",
    "except KeyError:\n",
    "    print(\"Erro: Chave 'endereço' não encontrada!\")"
   ]
  },
  {
   "cell_type": "markdown",
   "metadata": {},
   "source": [
    "**Quando usar:** Ao acessar chaves em um dicionário, já que a chave pode não estar presente.\n",
    "\n",
    "**Boa prática:** Usar `get()` para acessar chaves, que retorna `None` se a chave não existir, evitando exceções."
   ]
  },
  {
   "cell_type": "markdown",
   "metadata": {},
   "source": [
    "#### 6. **Manipulação de Múltiplas Exceções**"
   ]
  },
  {
   "cell_type": "markdown",
   "metadata": {},
   "source": [
    "**Explicação:** Aqui, o bloco `try` trata tanto a `ValueError` quanto a `ZeroDivisionError`, com diferentes mensagens para cada erro."
   ]
  },
  {
   "cell_type": "code",
   "execution_count": null,
   "metadata": {},
   "outputs": [],
   "source": [
    "try:\n",
    "    numero = int(input(\"Digite um número: \"))\n",
    "    resultado = 10 / numero\n",
    "except ValueError:\n",
    "    print(\"Erro: Entrada inválida!\")\n",
    "except ZeroDivisionError:\n",
    "    print(\"Erro: Divisão por zero!\")"
   ]
  },
  {
   "cell_type": "markdown",
   "metadata": {},
   "source": [
    "**Quando usar:** Quando várias operações dentro de um bloco `try` podem lançar diferentes tipos de exceções.\n",
    "\n",
    "**Boa prática:** Tratar exceções específicas para facilitar a depuração e leitura do código."
   ]
  },
  {
   "cell_type": "markdown",
   "metadata": {},
   "source": [
    "#### 7. **Uso de `finally` para Garantir a Execução de Código**"
   ]
  },
  {
   "cell_type": "markdown",
   "metadata": {},
   "source": [
    "**Explicação:** O bloco `finally` é executado independentemente do sucesso ou falha do bloco `try`, garantindo que o arquivo seja fechado."
   ]
  },
  {
   "cell_type": "code",
   "execution_count": 7,
   "metadata": {},
   "outputs": [
    {
     "name": "stdout",
     "output_type": "stream",
     "text": [
      "Operação concluída.\n"
     ]
    }
   ],
   "source": [
    "try:\n",
    "    arquivo = open('dados.txt', 'r')\n",
    "    conteudo = arquivo.read()\n",
    "except FileNotFoundError:\n",
    "    print(\"Erro: Arquivo não encontrado!\")\n",
    "finally:\n",
    "    print(\"Operação concluída.\")\n",
    "    arquivo.close()"
   ]
  },
  {
   "cell_type": "markdown",
   "metadata": {},
   "source": [
    "\n",
    "#### 8. **Re-levantar uma Exceção**"
   ]
  },
  {
   "cell_type": "markdown",
   "metadata": {},
   "source": [
    "#### 9. **Uso de `else` com `try-except`**"
   ]
  },
  {
   "cell_type": "markdown",
   "metadata": {},
   "source": [
    "#### 10. **Exceções Personalizadas**"
   ]
  },
  {
   "cell_type": "markdown",
   "metadata": {},
   "source": [
    "## Quando Evitar o Uso de `try-except` e Formas Alternativas"
   ]
  },
  {
   "cell_type": "markdown",
   "metadata": {},
   "source": [
    "#### 1. **Evitar `try-except` para Controle de Fluxo Regular**"
   ]
  },
  {
   "cell_type": "markdown",
   "metadata": {},
   "source": [
    "#### 2. **Evitar `try-except` para Esconder Erros Silenciosamente**"
   ]
  },
  {
   "cell_type": "markdown",
   "metadata": {},
   "source": [
    "#### 3. **Evitar Usar `try-except` para Códigos que Podem Ser Facilmente Verificados**"
   ]
  },
  {
   "cell_type": "markdown",
   "metadata": {},
   "source": [
    "#### 4. **Evitar `try-except` para Substituir uma Boa Validação de Entrada**"
   ]
  },
  {
   "cell_type": "markdown",
   "metadata": {},
   "source": [
    "\n",
    "#### 5. **Evitar `try-except` para Lidando com Exceções que Devem Ser Tratadas de Forma Global**"
   ]
  },
  {
   "cell_type": "markdown",
   "metadata": {},
   "source": [
    "## Boas Práticas"
   ]
  },
  {
   "cell_type": "markdown",
   "metadata": {},
   "source": [
    "Aqui estão as boas práticas para o uso do comando `try-except` em Python:\n",
    "\n",
    "### Boas Práticas no Uso do `try-except` em Python\n",
    "\n",
    "- **Capture Exceções Específicas:**\n",
    "\n",
    "Sempre capture exceções específicas, como `ValueError`, `IndexError`, etc., em vez de capturar todas as exceções com um `except:` genérico. Isso torna o código mais robusto e fácil de depurar.\n",
    "\n",
    "- **Trate ou Registre as Exceções:**\n",
    "\n",
    "Nunca silencie exceções sem tratamento. Se não for possível tratá-las diretamente, registre-as em um log para que possam ser revisadas e resolvidas posteriormente.\n",
    "\n",
    "- **Evite Usar `try-except` para Controle de Fluxo Regular:**\n",
    "\n",
    "Utilize `if-else` para controlar o fluxo normal do programa. O `try-except` deve ser usado apenas para capturar e tratar erros excepcionais.\n",
    "\n",
    "- **Valide Entradas Antes de Usar `try-except`:**\n",
    "\n",
    "Sempre que possível, valide as entradas do usuário ou condições antes de usar o `try-except`. Isso reduz a necessidade de capturar exceções e melhora a clareza do código.\n",
    "\n",
    "- **Use `finally` para Limpeza de Recursos:**\n",
    "\n",
    "Utilize o bloco `finally` para garantir que recursos (como arquivos ou conexões de rede) sejam sempre liberados, independentemente de uma exceção ter ocorrido ou não.\n",
    "\n",
    "- **Evite Capturar Exceções Não Específicas:**\n",
    "\n",
    "Evite capturar exceções usando `except Exception:` ou `except:` sem uma razão específica. Isso pode ocultar erros inesperados e dificultar a depuração.\n",
    "\n",
    "- **Mantenha o Bloco `try` Pequeno:**\n",
    "\n",
    "Coloque apenas o código que pode gerar exceções no bloco `try`. Isso torna mais fácil identificar qual parte do código gerou a exceção e melhora a legibilidade.\n",
    "\n",
    "- **Re-lance Exceções se Necessário:**\n",
    "\n",
    "Se uma exceção não puder ser tratada adequadamente no local onde foi capturada, considere re-lançá-la usando `raise` para que possa ser tratada em outro lugar do programa.\n",
    "\n",
    "- **Use `else` para Código que Não Gera Exceções:**\n",
    "\n",
    "Utilize o bloco `else` para código que deve ser executado apenas se nenhuma exceção for levantada no bloco `try`.\n",
    "\n",
    "- **Não Use `try-except` para Substituir Funções Padrão:**\n",
    "\n",
    "Não utilize `try-except` para substituir funções integradas que já lidam com erros de forma eficiente, como `get()` para dicionários ou `open()` com verificação de existência de arquivos."
   ]
  }
 ],
 "metadata": {
  "kernelspec": {
   "display_name": "Python 3",
   "language": "python",
   "name": "python3"
  },
  "language_info": {
   "codemirror_mode": {
    "name": "ipython",
    "version": 3
   },
   "file_extension": ".py",
   "mimetype": "text/x-python",
   "name": "python",
   "nbconvert_exporter": "python",
   "pygments_lexer": "ipython3",
   "version": "3.12.5"
  }
 },
 "nbformat": 4,
 "nbformat_minor": 2
}
